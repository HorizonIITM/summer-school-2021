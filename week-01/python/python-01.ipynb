{
 "cells": [
  {
   "cell_type": "markdown",
   "id": "6f7051d0-fa37-4e1c-9c95-017089985361",
   "metadata": {},
   "source": [
    "# Module 1.2 - **Python Part 1**\n",
    "## _Ashish Shroti_ and _Rajeshkumar K_"
   ]
  },
  {
   "cell_type": "code",
   "execution_count": 4,
   "id": "c14a63b2-ed00-454a-b02b-c9f4f9f23163",
   "metadata": {},
   "outputs": [
    {
     "name": "stdout",
     "output_type": "stream",
     "text": [
      "Hello, Universe!\n"
     ]
    }
   ],
   "source": [
    "print(\"Hello, Universe!\")"
   ]
  },
  {
   "cell_type": "markdown",
   "id": "701b1a37-b6e8-4f75-824e-91b2b4815e32",
   "metadata": {},
   "source": [
    "---\n",
    "# Table of Contents\n",
    "1. [Jupyter](#jupyter)\n",
    "2. [Variables and Operators](#variables-and-operators)\n",
    "3. [Data Types](#data-types)\n",
    "4. [Conditionals](#conditionals)\n",
    "5. [Loops](#loops)\n",
    "6. [Functions](#functions)"
   ]
  },
  {
   "cell_type": "markdown",
   "id": "1bf40d16-ffa6-488a-bbef-0256388cd954",
   "metadata": {},
   "source": [
    "---\n",
    "## Jupyter <a name='jupyter'></a>"
   ]
  },
  {
   "cell_type": "markdown",
   "id": "a828777b-a32d-4474-9c63-99421f59afad",
   "metadata": {},
   "source": [
    "### Features\n",
    "+ Provides cells - interactive programming\n",
    "+ [Literate programming](http://literateprogramming.com/)\n",
    "+ Markdown, $\\LaTeX$ and other rich media support.\n",
    "\n",
    "### Installation\n",
    "#### Ubuntu (and Ubuntu based systems)\n",
    "1. Update the system using: `sudo apt update && sudo apt upgrade`.\n",
    "2. Install [**Jupyter Lab**](https://jupyter.org/) using: `pip install jupyterlab`.\n",
    "3. To open Jupyter Lab, go to some directory, and run `jupyter lab`.\n",
    "\n",
    "#### Arch Linux (and Arch based systems)\n",
    "1. Update the system using: `sudo pacman -Syu`.\n",
    "2. Install [**Jupyter Lab**](https://jupyter.org/) using: `sudo pacman -S jupyterlab`.\n",
    "3. To open Jupyter Lab, go to some directory, and run `jupyter lab`."
   ]
  },
  {
   "cell_type": "markdown",
   "id": "02305a5a-41e5-4a0b-960f-ef6dc744460e",
   "metadata": {},
   "source": [
    "---\n",
    "## Variables  <a name='variables-and-operators'></a>"
   ]
  },
  {
   "cell_type": "markdown",
   "id": "342e7ad4",
   "metadata": {},
   "source": [
    "Variables are names given to data that we need to store and manipulate in our programs. For instance, suppose your program needs to store the age of a user. To do that, we can name this data userAge and define the variable userAge using the following statement."
   ]
  },
  {
   "cell_type": "code",
   "execution_count": 5,
   "id": "3599db0a",
   "metadata": {},
   "outputs": [
    {
     "name": "stdout",
     "output_type": "stream",
     "text": [
      "0\n"
     ]
    }
   ],
   "source": [
    "count = 0\n",
    "print(count)"
   ]
  },
  {
   "cell_type": "code",
   "execution_count": 12,
   "id": "cfde2124",
   "metadata": {},
   "outputs": [
    {
     "name": "stdout",
     "output_type": "stream",
     "text": [
      "14 Peter\n"
     ]
    }
   ],
   "source": [
    "name = 'Peter'\n",
    "print(age, name)"
   ]
  },
  {
   "cell_type": "code",
   "execution_count": 7,
   "id": "529b5d85",
   "metadata": {},
   "outputs": [
    {
     "name": "stdout",
     "output_type": "stream",
     "text": [
      "30 Peter\n"
     ]
    }
   ],
   "source": [
    "age, name = 30, 'Peter'\n",
    "print(age, name)"
   ]
  },
  {
   "cell_type": "code",
   "execution_count": 10,
   "id": "e3c8e03a",
   "metadata": {},
   "outputs": [
    {
     "name": "stdout",
     "output_type": "stream",
     "text": [
      "14 David\n"
     ]
    }
   ],
   "source": [
    "age = input(\"Enter Age: \")\n",
    "name = input(\"Enter Name: \")\n",
    "print(age, name)"
   ]
  },
  {
   "cell_type": "markdown",
   "id": "dfb14d27",
   "metadata": {},
   "source": [
    "A variable name in Python can only contain letters (a - z, A - B), numbers or underscores (_). However, the first character cannot be a number. Hence, you can name your variables userName, user_name or userName2 but not 2userName."
   ]
  },
  {
   "cell_type": "markdown",
   "id": "c9196000",
   "metadata": {},
   "source": [
    "## Basic Operators\n",
    "Basic operators in Python include +, -, *, /, //, % and ** which represent addition, subtraction, multiplication, division, floor division, modulus and exponent respectively."
   ]
  },
  {
   "cell_type": "code",
   "execution_count": 13,
   "id": "ad6727fa",
   "metadata": {},
   "outputs": [],
   "source": [
    "x, y = 5, 2"
   ]
  },
  {
   "cell_type": "code",
   "execution_count": 14,
   "id": "e73a1906",
   "metadata": {},
   "outputs": [
    {
     "name": "stdout",
     "output_type": "stream",
     "text": [
      "7\n"
     ]
    }
   ],
   "source": [
    "z = x + y\n",
    "print(z)"
   ]
  },
  {
   "cell_type": "code",
   "execution_count": 16,
   "id": "201361fd",
   "metadata": {},
   "outputs": [
    {
     "name": "stdout",
     "output_type": "stream",
     "text": [
      "3\n"
     ]
    }
   ],
   "source": [
    "print(x-y)\n"
   ]
  },
  {
   "cell_type": "code",
   "execution_count": 17,
   "id": "c53d5eb7",
   "metadata": {},
   "outputs": [
    {
     "name": "stdout",
     "output_type": "stream",
     "text": [
      "10\n"
     ]
    }
   ],
   "source": [
    "print(x*y)"
   ]
  },
  {
   "cell_type": "code",
   "execution_count": 18,
   "id": "5d284271",
   "metadata": {},
   "outputs": [
    {
     "name": "stdout",
     "output_type": "stream",
     "text": [
      "2.5\n"
     ]
    }
   ],
   "source": [
    "print(x/y)"
   ]
  },
  {
   "cell_type": "code",
   "execution_count": 19,
   "id": "c7515846",
   "metadata": {},
   "outputs": [
    {
     "name": "stdout",
     "output_type": "stream",
     "text": [
      "2\n"
     ]
    }
   ],
   "source": [
    "print(x//y)\n"
   ]
  },
  {
   "cell_type": "code",
   "execution_count": 20,
   "id": "68e91939",
   "metadata": {},
   "outputs": [
    {
     "name": "stdout",
     "output_type": "stream",
     "text": [
      "1\n"
     ]
    }
   ],
   "source": [
    "print(x%y)"
   ]
  },
  {
   "cell_type": "code",
   "execution_count": 21,
   "id": "5c0100dc",
   "metadata": {},
   "outputs": [
    {
     "name": "stdout",
     "output_type": "stream",
     "text": [
      "25\n"
     ]
    }
   ],
   "source": [
    "print(x**y)"
   ]
  },
  {
   "cell_type": "code",
   "execution_count": 26,
   "id": "3a660e6c",
   "metadata": {},
   "outputs": [
    {
     "name": "stdout",
     "output_type": "stream",
     "text": [
      "6\n"
     ]
    }
   ],
   "source": [
    "a= 1\n",
    "b=2\n",
    "c=5\n",
    "\n",
    "print(int(x+y*a/b))"
   ]
  },
  {
   "cell_type": "code",
   "execution_count": 27,
   "id": "bd789c0b",
   "metadata": {},
   "outputs": [
    {
     "name": "stdout",
     "output_type": "stream",
     "text": [
      "1 1st value\n",
      "2 2nd value\n"
     ]
    }
   ],
   "source": [
    "i = 0\n",
    "i = i + 1\n",
    "print(i, \"1st value\")\n",
    "i += 1\n",
    "print(i, \"2nd value\")"
   ]
  },
  {
   "cell_type": "markdown",
   "id": "69f6de2f",
   "metadata": {},
   "source": [
    "---\n",
    "## Data Types <a name='data-types'></a>"
   ]
  },
  {
   "cell_type": "markdown",
   "id": "df8fc082",
   "metadata": {},
   "source": [
    "\n",
    "### Integers \n",
    "Integers are numbers with no decimal parts, such as -5, -4, -3, 0, 5, 7 etc.\n"
   ]
  },
  {
   "cell_type": "code",
   "execution_count": null,
   "id": "b432ce3b",
   "metadata": {},
   "outputs": [],
   "source": [
    "number = 45"
   ]
  },
  {
   "cell_type": "markdown",
   "id": "0fb3deac",
   "metadata": {},
   "source": [
    "###  Float\n",
    "Float refers to numbers that have decimal parts, such as 1.234, -0.023, 12.01."
   ]
  },
  {
   "cell_type": "code",
   "execution_count": null,
   "id": "eee5b1d1",
   "metadata": {},
   "outputs": [],
   "source": [
    "userHeight = 1.82 \n",
    "userWeight = 67.2"
   ]
  },
  {
   "cell_type": "markdown",
   "id": "879118e3",
   "metadata": {},
   "source": [
    "\n",
    "### String\n",
    "String refers to text."
   ]
  },
  {
   "cell_type": "code",
   "execution_count": null,
   "id": "627b8a2f",
   "metadata": {},
   "outputs": [],
   "source": [
    " variableName = 'initial value'"
   ]
  },
  {
   "cell_type": "code",
   "execution_count": 37,
   "id": "56cc5ed3",
   "metadata": {},
   "outputs": [
    {
     "name": "stdout",
     "output_type": "stream",
     "text": [
      "Your name is Peter Malan\n"
     ]
    }
   ],
   "source": [
    "firstName = 'Peter'\n",
    "lastName= 'Malan'\n",
    "print('Your name is '+ firstName +\" \"+ lastName)\n"
   ]
  },
  {
   "cell_type": "markdown",
   "id": "6f651b5a",
   "metadata": {},
   "source": [
    "#### Type Casting In Python\n",
    "Sometimes in our program, it is necessary for us to convert from one data type to another, such as from an integer to a string. This is known as type casting.\n",
    "\n",
    "There are three built-in functions in Python that allow us to do type casting. These are the int(), float(), and str() functions.\n"
   ]
  },
  {
   "cell_type": "code",
   "execution_count": 31,
   "id": "aa555e2c",
   "metadata": {},
   "outputs": [
    {
     "name": "stdout",
     "output_type": "stream",
     "text": [
      "67\n"
     ]
    }
   ],
   "source": [
    "x = input(\"Enter x: \")\n",
    "y = input(\"Enter y: \")\n",
    "print(x+y)"
   ]
  },
  {
   "cell_type": "code",
   "execution_count": 38,
   "id": "436ab3c1",
   "metadata": {},
   "outputs": [
    {
     "name": "stdout",
     "output_type": "stream",
     "text": [
      "13\n"
     ]
    }
   ],
   "source": [
    "x = int(input(\"Enter x: \"))\n",
    "y = int(input(\"Enter y: \"))\n",
    "print(x+y)"
   ]
  },
  {
   "cell_type": "code",
   "execution_count": 39,
   "id": "5e992277",
   "metadata": {},
   "outputs": [
    {
     "name": "stdout",
     "output_type": "stream",
     "text": [
      "7 9.0 16.0\n"
     ]
    }
   ],
   "source": [
    "x = int(input(\"Enter x: \"))\n",
    "y = float(input(\"Enter y: \"))\n",
    "print(x, y, x+y)"
   ]
  },
  {
   "cell_type": "markdown",
   "id": "a1cc1256",
   "metadata": {},
   "source": [
    "\n",
    "### List "
   ]
  },
  {
   "cell_type": "markdown",
   "id": "be8d8f58",
   "metadata": {},
   "source": [
    "List refers to a collection of data which are normally related. Instead of storing these data as separate variables, we can store them as a list."
   ]
  },
  {
   "cell_type": "code",
   "execution_count": null,
   "id": "e9d50a31",
   "metadata": {},
   "outputs": [],
   "source": [
    "\n"
   ]
  },
  {
   "cell_type": "code",
   "execution_count": 41,
   "id": "9fba40ac",
   "metadata": {},
   "outputs": [],
   "source": [
    "scores = [\"78\", \"67\", \"69\",\"5\", \"0\", \"95\", \"49\"]"
   ]
  },
  {
   "cell_type": "code",
   "execution_count": 42,
   "id": "12dfd6dc",
   "metadata": {},
   "outputs": [
    {
     "name": "stdout",
     "output_type": "stream",
     "text": [
      "78\n"
     ]
    }
   ],
   "source": [
    "print(scores[0])"
   ]
  },
  {
   "cell_type": "code",
   "execution_count": 43,
   "id": "169ff5b0",
   "metadata": {},
   "outputs": [
    {
     "name": "stdout",
     "output_type": "stream",
     "text": [
      "['69', '5']\n"
     ]
    }
   ],
   "source": [
    "print(scores[2:4])"
   ]
  },
  {
   "cell_type": "code",
   "execution_count": 44,
   "id": "186264be",
   "metadata": {},
   "outputs": [
    {
     "name": "stdout",
     "output_type": "stream",
     "text": [
      "['78', '67', '69', '5', '95', '49']\n"
     ]
    }
   ],
   "source": [
    "del scores[4]\n",
    "print(scores)"
   ]
  },
  {
   "cell_type": "code",
   "execution_count": null,
   "id": "578dc1f1",
   "metadata": {},
   "outputs": [],
   "source": [
    "upcoming_scores = []\n"
   ]
  },
  {
   "cell_type": "markdown",
   "id": "079e263b",
   "metadata": {},
   "source": [
    "\n",
    "### Tuples"
   ]
  },
  {
   "cell_type": "markdown",
   "id": "5d000065",
   "metadata": {},
   "source": [
    "Tuples are just like lists, but you cannot modify their values. The initial values are the values that will stay for the rest of the program. An example where tuples are useful is when your program needs to store the names of the months of the year."
   ]
  },
  {
   "cell_type": "code",
   "execution_count": 49,
   "id": "a00a03fe",
   "metadata": {},
   "outputs": [],
   "source": [
    "monthsOfYear = ('Jan', 'Feb', 'Mar', 'Apr', 'May', 'Jun', 'Jul', 'Aug', 'Sep', 'Oct', 'Nov', 'Dec')\n",
    "coordinates = (8,9,5)"
   ]
  },
  {
   "cell_type": "markdown",
   "id": "388594e9",
   "metadata": {},
   "source": [
    "You access the individual values of a tuple using their indexes, just like with a list.\n"
   ]
  },
  {
   "cell_type": "code",
   "execution_count": 51,
   "id": "4bdf091f",
   "metadata": {},
   "outputs": [
    {
     "name": "stdout",
     "output_type": "stream",
     "text": [
      "Jan Jan\n"
     ]
    }
   ],
   "source": [
    "print( monthsOfYear[0] , monthsOfYear[-12] )"
   ]
  },
  {
   "cell_type": "markdown",
   "id": "93da7186",
   "metadata": {},
   "source": [
    "\n",
    "### Dictionary"
   ]
  },
  {
   "cell_type": "markdown",
   "id": "0feed3db",
   "metadata": {},
   "source": [
    "Dictionary is a collection of related data PAIRS. For instance, if we want to store the username and age of 5 users, we can store them in a dictionary."
   ]
  },
  {
   "cell_type": "code",
   "execution_count": 61,
   "id": "74f2b55d",
   "metadata": {},
   "outputs": [],
   "source": [
    "marks = {67: 95, \"Maths\": 98, \"Physics\": 100}"
   ]
  },
  {
   "cell_type": "code",
   "execution_count": 62,
   "id": "6076f6f7",
   "metadata": {},
   "outputs": [
    {
     "data": {
      "text/plain": [
       "95"
      ]
     },
     "execution_count": 62,
     "metadata": {},
     "output_type": "execute_result"
    }
   ],
   "source": [
    "marks[67]"
   ]
  },
  {
   "cell_type": "code",
   "execution_count": 55,
   "id": "3036fc26",
   "metadata": {},
   "outputs": [],
   "source": [
    "upcoming_marks = {}"
   ]
  },
  {
   "cell_type": "code",
   "execution_count": 56,
   "id": "82c2e18c",
   "metadata": {},
   "outputs": [
    {
     "name": "stdout",
     "output_type": "stream",
     "text": [
      "{'Social_Science': 96}\n"
     ]
    }
   ],
   "source": [
    "upcoming_marks[\"Social_Science\"] = 96\n",
    "print(upcoming_marks)"
   ]
  },
  {
   "cell_type": "code",
   "execution_count": 59,
   "id": "f1d17381",
   "metadata": {},
   "outputs": [
    {
     "name": "stdout",
     "output_type": "stream",
     "text": [
      "{'English': 95, 'Maths': 98, 'Physics': 100, 'Social': 97}\n"
     ]
    }
   ],
   "source": [
    "print(marks)\n",
    "marks[\"Social\"] = 97\n"
   ]
  },
  {
   "cell_type": "markdown",
   "id": "47a2a9b7",
   "metadata": {},
   "source": [
    "---\n",
    "## Conditionals <a name='conditionals'></a>"
   ]
  },
  {
   "cell_type": "markdown",
   "id": "4b400850",
   "metadata": {},
   "source": [
    "All control flow tools involve evaluating a condition statement. The program will proceed differently depending on whether the condition is met.\n",
    "\n",
    "The most common condition statement is the comparison statement. If we want to compare whether two variables are the same, we use the == sign (double =). For instance, if you write x == y, you are asking the program to check if the value of x is equals to the value of y. If they are equal, the condition is met and the statement will evaluate to True. Else, the statement will evaluate to False."
   ]
  },
  {
   "cell_type": "code",
   "execution_count": 63,
   "id": "4d0689eb",
   "metadata": {},
   "outputs": [
    {
     "name": "stdout",
     "output_type": "stream",
     "text": [
      "True\n",
      "False\n",
      "True\n",
      "True\n",
      "False\n",
      "True\n"
     ]
    }
   ],
   "source": [
    "print(5==5)\n",
    "print(5<5)\n",
    "print(5<9)\n",
    "print(5<=5)\n",
    "print(5!=5)\n",
    "print(5!=4)"
   ]
  },
  {
   "cell_type": "code",
   "execution_count": 70,
   "id": "6b628c0e",
   "metadata": {},
   "outputs": [
    {
     "name": "stdout",
     "output_type": "stream",
     "text": [
      "Incorrect\n",
      "something\n"
     ]
    }
   ],
   "source": [
    "n = int(input(\"Enter a number greater than 6: \"))\n",
    "if n> 6 :\n",
    "    print(\"Correct\")\n",
    "elif n== 6 : \n",
    "    print(\"Learn counting again!\")\n",
    "else :\n",
    "    print (\"Incorrect\")"
   ]
  },
  {
   "cell_type": "markdown",
   "id": "a1c9a69e-01a7-4b2f-a102-8a62804b28e7",
   "metadata": {},
   "source": [
    "---\n",
    "## Loops <a name='loops'></a>"
   ]
  },
  {
   "cell_type": "code",
   "execution_count": 98,
   "id": "0b251df9",
   "metadata": {},
   "outputs": [
    {
     "name": "stdout",
     "output_type": "stream",
     "text": [
      "69\n",
      "not a fifty\n",
      "5\n",
      "not a fifty\n",
      "0\n",
      "not a fifty\n"
     ]
    }
   ],
   "source": [
    "score = [\"78\", \"67\", \"69\",\"5\", \"0\", \"95\", \"49\"]\n",
    "fifties = 0\n",
    "\n",
    "for score in scores[2:5]: \n",
    "    print(score)\n",
    "    if int(s) >= 50 :\n",
    "        print(\"yaay! a fifty\")\n",
    "        fifties +=1\n",
    "    else :\n",
    "        print(\"not a fifty\")\n",
    "\n"
   ]
  },
  {
   "cell_type": "markdown",
   "id": "add95785-c5ef-4913-99d4-465b4d546e0a",
   "metadata": {},
   "source": [
    "---\n",
    "## Functions <a name='functions'></a>"
   ]
  },
  {
   "cell_type": "markdown",
   "id": "21b834f4",
   "metadata": {},
   "source": [
    "Functions are simply pre-written codes that perform a certain task"
   ]
  },
  {
   "cell_type": "code",
   "execution_count": null,
   "id": "cea2c365",
   "metadata": {},
   "outputs": [],
   "source": [
    "def functionName(parameters):\n",
    "\n",
    "    # code detailing what the function should do\n",
    "\n",
    "return \"something\""
   ]
  },
  {
   "cell_type": "code",
   "execution_count": 94,
   "id": "3a0818e2",
   "metadata": {},
   "outputs": [],
   "source": [
    "def count_fifties (scores) :\n",
    "    fifties= 0\n",
    "    for score in scores: \n",
    "       \n",
    "        if int(score) >= 50 :\n",
    "            \n",
    "            fifties +=1\n",
    "    return fifties\n",
    "       \n",
    "    "
   ]
  },
  {
   "cell_type": "code",
   "execution_count": 82,
   "id": "d94fd5c6",
   "metadata": {},
   "outputs": [],
   "source": [
    "score_stats = {\"Dhoni\": [\"67\", \"32\", \"183\"], \"Virat\" :[\"78\", \"132\", \"93\"], \"Rohit\": [\"78\", \"232\", \"15\"]}"
   ]
  },
  {
   "cell_type": "code",
   "execution_count": 93,
   "id": "3732ffef",
   "metadata": {},
   "outputs": [
    {
     "name": "stdout",
     "output_type": "stream",
     "text": [
      "2\n",
      "3\n",
      "2\n"
     ]
    }
   ],
   "source": [
    "print(count_fifties(score_stats[\"Dhoni\"]))\n",
    "print(count_fifties(score_stats[\"Virat\"]))\n",
    "print(count_fifties(score_stats[\"Rohit\"]))"
   ]
  },
  {
   "cell_type": "code",
   "execution_count": 95,
   "id": "4a2b07a3",
   "metadata": {},
   "outputs": [
    {
     "name": "stdout",
     "output_type": "stream",
     "text": [
      "Dhoni\n",
      "2\n",
      "Virat\n",
      "3\n",
      "Rohit\n",
      "2\n"
     ]
    }
   ],
   "source": [
    "for player in score_stats:\n",
    "    print(player)\n",
    "    print(count_fifties(score_stats[player]))"
   ]
  }
 ],
 "metadata": {
  "interpreter": {
   "hash": "f947723660b63f948efaec05bda4df5f8ff64a19a64978a5074660dc2e888e74"
  },
  "kernelspec": {
   "display_name": "Python 3",
   "language": "python",
   "name": "python3"
  },
  "language_info": {
   "codemirror_mode": {
    "name": "ipython",
    "version": 3
   },
   "file_extension": ".py",
   "mimetype": "text/x-python",
   "name": "python",
   "nbconvert_exporter": "python",
   "pygments_lexer": "ipython3",
   "version": "3.9.6"
  }
 },
 "nbformat": 4,
 "nbformat_minor": 5
}
