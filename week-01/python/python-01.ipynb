{
 "cells": [
  {
   "cell_type": "markdown",
   "id": "6f7051d0-fa37-4e1c-9c95-017089985361",
   "metadata": {},
   "source": [
    "# Module 1.2 - **Python Part 1**\n",
    "## _Ashish Shroti_ and _Rajeshkumar K_"
   ]
  },
  {
   "cell_type": "code",
   "execution_count": 2,
   "id": "c14a63b2-ed00-454a-b02b-c9f4f9f23163",
   "metadata": {},
   "outputs": [
    {
     "name": "stdout",
     "output_type": "stream",
     "text": [
      "Hello, Universe!\n"
     ]
    }
   ],
   "source": [
    "print(\"Hello, Universe!\")"
   ]
  },
  {
   "cell_type": "markdown",
   "id": "701b1a37-b6e8-4f75-824e-91b2b4815e32",
   "metadata": {},
   "source": [
    "---\n",
    "# Table of Contents\n",
    "1. [Jupyter](#jupyter)\n",
    "2. [Variables and Operators](#variables-and-operators)\n",
    "3. [Data Types](#data-types)\n",
    "4. [Conditionals](#conditionals)\n",
    "5. [Loops](#loops)\n",
    "6. [Functions](#functions)"
   ]
  },
  {
   "cell_type": "markdown",
   "id": "1bf40d16-ffa6-488a-bbef-0256388cd954",
   "metadata": {},
   "source": [
    "---\n",
    "## Jupyter <a name='jupyter'></a>"
   ]
  },
  {
   "cell_type": "markdown",
   "id": "a828777b-a32d-4474-9c63-99421f59afad",
   "metadata": {},
   "source": [
    "### Features\n",
    "+ Provides cells - interactive programming\n",
    "+ [Literate programming](http://literateprogramming.com/)\n",
    "+ Markdown, $\\LaTeX$ and other rich media support.\n",
    "\n",
    "### Installation\n",
    "#### Ubuntu (and Ubuntu based systems)\n",
    "1. Update the system using: `sudo apt update && sudo apt upgrade`.\n",
    "2. Install [**Jupyter Lab**](https://jupyter.org/) using: `pip install jupyterlab`.\n",
    "3. To open Jupyter Lab, go to some directory, and run `jupyter lab`.\n",
    "\n",
    "#### Arch Linux (and Arch based systems)\n",
    "1. Update the system using: `sudo pacman -Syu`.\n",
    "2. Install [**Jupyter Lab**](https://jupyter.org/) using: `sudo pacman -S jupyterlab`.\n",
    "3. To open Jupyter Lab, go to some directory, and run `jupyter lab`."
   ]
  },
  {
   "cell_type": "markdown",
   "id": "02305a5a-41e5-4a0b-960f-ef6dc744460e",
   "metadata": {},
   "source": [
    "---\n",
    "## Variables and Operators <a name='variables-and-operators'></a>"
   ]
  },
  {
   "source": [
    "Variables are names given to data that we need to store and manipulate in our programs. For instance, suppose your program needs to store the age of a user. To do that, we can name this data userAge and define the variable userAge using the following statement."
   ],
   "cell_type": "markdown",
   "metadata": {}
  },
  {
   "cell_type": "code",
   "execution_count": 8,
   "metadata": {},
   "outputs": [
    {
     "output_type": "stream",
     "name": "stdout",
     "text": [
      "0\n"
     ]
    }
   ],
   "source": [
    "count = 0\n",
    "print(count)"
   ]
  },
  {
   "cell_type": "code",
   "execution_count": 9,
   "metadata": {},
   "outputs": [
    {
     "output_type": "stream",
     "name": "stdout",
     "text": [
      "30 Peter\n"
     ]
    }
   ],
   "source": [
    "age = 30\n",
    "name = 'Peter'\n",
    "print(age, name)"
   ]
  },
  {
   "cell_type": "code",
   "execution_count": 10,
   "metadata": {},
   "outputs": [
    {
     "output_type": "stream",
     "name": "stdout",
     "text": [
      "30 Peter\n"
     ]
    }
   ],
   "source": [
    "age, name = 30, 'Peter'\n",
    "print(age, name)"
   ]
  },
  {
   "cell_type": "code",
   "execution_count": 11,
   "metadata": {},
   "outputs": [
    {
     "output_type": "stream",
     "name": "stdout",
     "text": [
      "30 Peter\n"
     ]
    }
   ],
   "source": [
    "age = input(\"Enter Age: \")\n",
    "name = input(\"Enter Name: \")\n",
    "print(age, name)"
   ]
  },
  {
   "source": [
    "A variable name in Python can only contain letters (a - z, A - B), numbers or underscores (_). However, the first character cannot be a number. Hence, you can name your variables userName, user_name or userName2 but not 2userName."
   ],
   "cell_type": "markdown",
   "metadata": {}
  },
  {
   "source": [
    "## Basic Operators\n",
    "Basic operators in Python include +, -, *, /, //, % and ** which represent addition, subtraction, multiplication, division, floor division, modulus and exponent respectively."
   ],
   "cell_type": "markdown",
   "metadata": {}
  },
  {
   "cell_type": "code",
   "execution_count": 14,
   "metadata": {},
   "outputs": [],
   "source": [
    "x, y = 5, 2"
   ]
  },
  {
   "cell_type": "code",
   "execution_count": 16,
   "metadata": {},
   "outputs": [
    {
     "output_type": "stream",
     "name": "stdout",
     "text": [
      "7\n"
     ]
    }
   ],
   "source": [
    "z = x + y\n",
    "print(z)"
   ]
  },
  {
   "cell_type": "code",
   "execution_count": 17,
   "metadata": {},
   "outputs": [
    {
     "output_type": "stream",
     "name": "stdout",
     "text": [
      "3\n"
     ]
    }
   ],
   "source": [
    "print(x-y)\n"
   ]
  },
  {
   "cell_type": "code",
   "execution_count": 18,
   "metadata": {},
   "outputs": [
    {
     "output_type": "stream",
     "name": "stdout",
     "text": [
      "10\n"
     ]
    }
   ],
   "source": [
    "print(x*y)"
   ]
  },
  {
   "cell_type": "code",
   "execution_count": 19,
   "metadata": {},
   "outputs": [
    {
     "output_type": "stream",
     "name": "stdout",
     "text": [
      "2.5\n"
     ]
    }
   ],
   "source": [
    "print(x/y)"
   ]
  },
  {
   "cell_type": "code",
   "execution_count": 20,
   "metadata": {},
   "outputs": [
    {
     "output_type": "stream",
     "name": "stdout",
     "text": [
      "2\n"
     ]
    }
   ],
   "source": [
    "print(x//y)"
   ]
  },
  {
   "cell_type": "code",
   "execution_count": 21,
   "metadata": {},
   "outputs": [
    {
     "output_type": "stream",
     "name": "stdout",
     "text": [
      "1\n"
     ]
    }
   ],
   "source": [
    "print(x%y)"
   ]
  },
  {
   "cell_type": "code",
   "execution_count": 22,
   "metadata": {},
   "outputs": [
    {
     "output_type": "stream",
     "name": "stdout",
     "text": [
      "25\n"
     ]
    }
   ],
   "source": [
    "print(x**y)"
   ]
  },
  {
   "cell_type": "code",
   "execution_count": 23,
   "metadata": {},
   "outputs": [
    {
     "output_type": "stream",
     "name": "stdout",
     "text": [
      "1\n2\n"
     ]
    }
   ],
   "source": [
    "i = 0\n",
    "i = i + 1\n",
    "print(i)\n",
    "i += 1\n",
    "print(i)"
   ]
  },
  {
   "source": [
    "---\n",
    "## Data Types <a name='data-types'></a>"
   ],
   "cell_type": "markdown",
   "metadata": {}
  },
  {
   "source": [
    "\n",
    "### Integers \n",
    "Integers are numbers with no decimal parts, such as -5, -4, -3, 0, 5, 7 etc.\n"
   ],
   "cell_type": "markdown",
   "metadata": {}
  },
  {
   "cell_type": "code",
   "execution_count": 25,
   "metadata": {},
   "outputs": [],
   "source": [
    "number = 45"
   ]
  },
  {
   "source": [
    "###  Float\n",
    "Float refers to numbers that have decimal parts, such as 1.234, -0.023, 12.01."
   ],
   "cell_type": "markdown",
   "metadata": {}
  },
  {
   "source": [
    "userHeight = 1.82 \n",
    "userWeight = 67.2"
   ],
   "cell_type": "code",
   "metadata": {},
   "execution_count": 27,
   "outputs": []
  },
  {
   "source": [
    "\n",
    "### String\n",
    "String refers to text."
   ],
   "cell_type": "markdown",
   "metadata": {}
  },
  {
   "cell_type": "code",
   "execution_count": null,
   "metadata": {},
   "outputs": [],
   "source": [
    " variableName = 'initial value'"
   ]
  },
  {
   "cell_type": "code",
   "execution_count": 29,
   "metadata": {},
   "outputs": [],
   "source": [
    "userName = 'Peter'\n",
    "userSpouseName = 'Janet'\n"
   ]
  },
  {
   "source": [
    "#### Type Casting In Python\n",
    "Sometimes in our program, it is necessary for us to convert from one data type to another, such as from an integer to a string. This is known as type casting.\n",
    "\n",
    "There are three built-in functions in Python that allow us to do type casting. These are the int(), float(), and str() functions.\n"
   ],
   "cell_type": "markdown",
   "metadata": {}
  },
  {
   "cell_type": "code",
   "execution_count": 30,
   "metadata": {},
   "outputs": [
    {
     "output_type": "stream",
     "name": "stdout",
     "text": [
      "47\n"
     ]
    }
   ],
   "source": [
    "x = input(\"Enter x: \")\n",
    "y = input(\"Enter y: \")\n",
    "print(x+y)"
   ]
  },
  {
   "cell_type": "code",
   "execution_count": 31,
   "metadata": {},
   "outputs": [
    {
     "output_type": "stream",
     "name": "stdout",
     "text": [
      "14\n"
     ]
    }
   ],
   "source": [
    "x = int(input(\"Enter x: \"))\n",
    "y = int(input(\"Enter y: \"))\n",
    "print(x+y)"
   ]
  },
  {
   "cell_type": "code",
   "execution_count": 32,
   "metadata": {},
   "outputs": [
    {
     "output_type": "stream",
     "name": "stdout",
     "text": [
      "3 4.0 7.0\n"
     ]
    }
   ],
   "source": [
    "x = int(input(\"Enter x: \"))\n",
    "y = float(input(\"Enter y: \"))\n",
    "print(x, y, x+y)"
   ]
  },
  {
   "source": [
    "\n",
    "### List "
   ],
   "cell_type": "markdown",
   "metadata": {}
  },
  {
   "source": [
    "List refers to a collection of data which are normally related. Instead of storing these data as separate variables, we can store them as a list."
   ],
   "cell_type": "markdown",
   "metadata": {}
  },
  {
   "cell_type": "code",
   "execution_count": 39,
   "metadata": {},
   "outputs": [],
   "source": [
    "scores = [\"78\", \"67\", \"69\",\"5\", \"0\", \"95\", \"49\"]"
   ]
  },
  {
   "cell_type": "code",
   "execution_count": 35,
   "metadata": {},
   "outputs": [
    {
     "output_type": "stream",
     "name": "stdout",
     "text": [
      "78\n"
     ]
    }
   ],
   "source": [
    "print(scores[0])"
   ]
  },
  {
   "cell_type": "code",
   "execution_count": 36,
   "metadata": {},
   "outputs": [
    {
     "output_type": "stream",
     "name": "stdout",
     "text": [
      "['69', '5']\n"
     ]
    }
   ],
   "source": [
    "print(scores[2:4])"
   ]
  },
  {
   "cell_type": "code",
   "execution_count": 40,
   "metadata": {},
   "outputs": [
    {
     "output_type": "stream",
     "name": "stdout",
     "text": [
      "['78', '67', '69', '5', '95', '49']\n"
     ]
    }
   ],
   "source": [
    "del scores[4]\n",
    "print(scores)"
   ]
  },
  {
   "source": [
    "upcoming_scores = []"
   ],
   "cell_type": "code",
   "metadata": {},
   "execution_count": 34,
   "outputs": []
  },
  {
   "source": [
    "\n",
    "### Tuples"
   ],
   "cell_type": "markdown",
   "metadata": {}
  },
  {
   "source": [
    "Tuples are just like lists, but you cannot modify their values. The initial values are the values that will stay for the rest of the program. An example where tuples are useful is when your program needs to store the names of the months of the year."
   ],
   "cell_type": "markdown",
   "metadata": {}
  },
  {
   "cell_type": "code",
   "execution_count": 42,
   "metadata": {},
   "outputs": [],
   "source": [
    "monthsOfYear = ('Jan', 'Feb', 'Mar', 'Apr', 'May', 'Jun', 'Jul', 'Aug', 'Sep', 'Oct', 'Nov', 'Dec')"
   ]
  },
  {
   "source": [
    "You access the individual values of a tuple using their indexes, just like with a list.\n"
   ],
   "cell_type": "markdown",
   "metadata": {}
  },
  {
   "cell_type": "code",
   "execution_count": 43,
   "metadata": {},
   "outputs": [
    {
     "output_type": "stream",
     "name": "stdout",
     "text": [
      "Jan Dec\n"
     ]
    }
   ],
   "source": [
    "print( monthsOfYear[0] , monthsOfYear[-1] )"
   ]
  },
  {
   "source": [
    "\n",
    "### Dictionary"
   ],
   "cell_type": "markdown",
   "metadata": {}
  },
  {
   "source": [
    "Dictionary is a collection of related data PAIRS. For instance, if we want to store the username and age of 5 users, we can store them in a dictionary."
   ],
   "cell_type": "markdown",
   "metadata": {}
  },
  {
   "cell_type": "code",
   "execution_count": 44,
   "metadata": {},
   "outputs": [],
   "source": [
    "marks = {\"English\": 95, \"Maths\": 98, \"Physics\": 100}"
   ]
  },
  {
   "cell_type": "code",
   "execution_count": 47,
   "metadata": {},
   "outputs": [
    {
     "output_type": "execute_result",
     "data": {
      "text/plain": [
       "98"
      ]
     },
     "metadata": {},
     "execution_count": 47
    }
   ],
   "source": [
    "marks[\"Maths\"]"
   ]
  },
  {
   "cell_type": "code",
   "execution_count": 45,
   "metadata": {},
   "outputs": [],
   "source": [
    "upcoming_marks = {}"
   ]
  },
  {
   "cell_type": "code",
   "execution_count": 46,
   "metadata": {},
   "outputs": [],
   "source": [
    "upcoming_marks[\"Social_Science\"] = 96"
   ]
  },
  {
   "source": [
    "---\n",
    "## Conditionals <a name='conditionals'></a>"
   ],
   "cell_type": "markdown",
   "metadata": {}
  },
  {
   "source": [
    "All control flow tools involve evaluating a condition statement. The program will proceed differently depending on whether the condition is met.\n",
    "\n",
    "The most common condition statement is the comparison statement. If we want to compare whether two variables are the same, we use the == sign (double =). For instance, if you write x == y, you are asking the program to check if the value of x is equals to the value of y. If they are equal, the condition is met and the statement will evaluate to True. Else, the statement will evaluate to False."
   ],
   "cell_type": "markdown",
   "metadata": {}
  },
  {
   "cell_type": "code",
   "execution_count": 52,
   "metadata": {},
   "outputs": [
    {
     "output_type": "stream",
     "name": "stdout",
     "text": [
      "True\nFalse\nTrue\nTrue\nFalse\nTrue\n"
     ]
    }
   ],
   "source": [
    "print(5==5)\n",
    "print(5<5)\n",
    "print(5<9)\n",
    "print(5<=5)\n",
    "print(5!=5)\n",
    "print(5!=4)"
   ]
  },
  {
   "cell_type": "code",
   "execution_count": 56,
   "metadata": {},
   "outputs": [
    {
     "output_type": "stream",
     "name": "stdout",
     "text": [
      "Learn counting again!\n"
     ]
    }
   ],
   "source": [
    "n = int(input(\"Enter a number greater than 6: \"))\n",
    "if n> 6 :\n",
    "    print(\"Correct\")\n",
    "elif n== 6 : \n",
    "    print(\"Learn counting again!\")\n",
    "else :\n",
    "    print (\"Incorrect\")\n"
   ]
  },
  {
   "cell_type": "markdown",
   "id": "a1c9a69e-01a7-4b2f-a102-8a62804b28e7",
   "metadata": {},
   "source": [
    "---\n",
    "## Loops <a name='loops'></a>"
   ]
  },
  {
   "cell_type": "code",
   "execution_count": 58,
   "metadata": {},
   "outputs": [
    {
     "output_type": "stream",
     "name": "stdout",
     "text": [
      "4\n"
     ]
    }
   ],
   "source": [
    "scores = [\"78\", \"67\", \"69\",\"5\", \"0\", \"95\", \"49\"]\n",
    "fifties = 0\n",
    "\n",
    "for score in scores : \n",
    "    if int(score) >= 50 :\n",
    "        fifties +=1\n",
    "print(fifties)\n"
   ]
  },
  {
   "cell_type": "markdown",
   "id": "add95785-c5ef-4913-99d4-465b4d546e0a",
   "metadata": {},
   "source": [
    "---\n",
    "## Functions <a name='functions'></a>"
   ]
  },
  {
   "source": [
    "Functions are simply pre-written codes that perform a certain task"
   ],
   "cell_type": "markdown",
   "metadata": {}
  },
  {
   "source": [
    "def functionName(parameters):\n",
    "\n",
    "    # code detailing what the function should do\n",
    "\n",
    "return \"something\""
   ],
   "cell_type": "code",
   "metadata": {},
   "execution_count": null,
   "outputs": []
  },
  {
   "cell_type": "code",
   "execution_count": 65,
   "metadata": {},
   "outputs": [],
   "source": [
    "def count_fifties (scores) :\n",
    "    fifties= 0\n",
    "    for score in scores : \n",
    "        if int(score) >= 50 :\n",
    "            fifties +=1\n",
    "    return fifties\n"
   ]
  },
  {
   "cell_type": "code",
   "execution_count": 63,
   "metadata": {},
   "outputs": [],
   "source": [
    "score_stats = {\"Dhoni\": [\"67\", \"32\", \"183\"], \"Virat\" :[\"78\", \"132\", \"93\"], \"Rohit\": [\"78\", \"232\", \"15\"]}"
   ]
  },
  {
   "cell_type": "code",
   "execution_count": 66,
   "metadata": {},
   "outputs": [
    {
     "output_type": "stream",
     "name": "stdout",
     "text": [
      "2\n3\n2\n"
     ]
    }
   ],
   "source": [
    "print(count_fifties(score_stats[\"Dhoni\"]))\n",
    "print(count_fifties(score_stats[\"Virat\"]))\n",
    "print(count_fifties(score_stats[\"Rohit\"]))"
   ]
  },
  {
   "cell_type": "code",
   "execution_count": 68,
   "metadata": {},
   "outputs": [
    {
     "output_type": "stream",
     "name": "stdout",
     "text": [
      "2\n3\n2\n"
     ]
    }
   ],
   "source": [
    "for player in score_stats:\n",
    "    print(count_fifties(score_stats[player]))"
   ]
  }
 ],
 "metadata": {
  "kernelspec": {
   "name": "python3",
   "display_name": "Python 3.7.4 64-bit (conda)"
  },
  "language_info": {
   "codemirror_mode": {
    "name": "ipython",
    "version": 3
   },
   "file_extension": ".py",
   "mimetype": "text/x-python",
   "name": "python",
   "nbconvert_exporter": "python",
   "pygments_lexer": "ipython3",
   "version": "3.7.4-final"
  },
  "interpreter": {
   "hash": "f947723660b63f948efaec05bda4df5f8ff64a19a64978a5074660dc2e888e74"
  }
 },
 "nbformat": 4,
 "nbformat_minor": 5
}