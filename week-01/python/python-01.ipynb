{
 "cells": [
  {
   "cell_type": "markdown",
   "id": "6f7051d0-fa37-4e1c-9c95-017089985361",
   "metadata": {},
   "source": [
    "# Module 1.2 - **Python Part 1**\n",
    "## _Ashish Shroti_ and _Rajeshkumar K_"
   ]
  },
  {
   "cell_type": "code",
   "execution_count": 2,
   "id": "c14a63b2-ed00-454a-b02b-c9f4f9f23163",
   "metadata": {},
   "outputs": [
    {
     "name": "stdout",
     "output_type": "stream",
     "text": [
      "Hello, Universe!\n"
     ]
    }
   ],
   "source": [
    "print(\"Hello, Universe!\")"
   ]
  },
  {
   "cell_type": "markdown",
   "id": "701b1a37-b6e8-4f75-824e-91b2b4815e32",
   "metadata": {},
   "source": [
    "---\n",
    "# Table of Contents\n",
    "1. [Jupyter](#jupyter)\n",
    "2. [Variables and Operators](#variables-and-operators)\n",
    "3. [Data Types](#data-types)\n",
    "4. [Conditionals](#conditionals)\n",
    "5. [Loops](#loops)\n",
    "6. [Functions](#functions)"
   ]
  },
  {
   "cell_type": "markdown",
   "id": "1bf40d16-ffa6-488a-bbef-0256388cd954",
   "metadata": {},
   "source": [
    "---\n",
    "## Jupyter <a name='jupyter'></a>"
   ]
  },
  {
   "cell_type": "markdown",
   "id": "a828777b-a32d-4474-9c63-99421f59afad",
   "metadata": {},
   "source": [
    "### Features\n",
    "+ Provides cells - interactive programming\n",
    "+ [Literate programming](http://literateprogramming.com/)\n",
    "+ Markdown, $\\LaTeX$ and other rich media support.\n",
    "\n",
    "### Installation\n",
    "#### Ubuntu (and Ubuntu based systems)\n",
    "1. Update the system using: `sudo apt update && sudo apt upgrade`.\n",
    "2. Install [**Jupyter Lab**](https://jupyter.org/) using: `pip install jupyterlab`.\n",
    "3. To open Jupyter Lab, go to some directory, and run `jupyter lab`.\n",
    "\n",
    "#### Arch Linux (and Arch based systems)\n",
    "1. Update the system using: `sudo pacman -Syu`.\n",
    "2. Install [**Jupyter Lab**](https://jupyter.org/) using: `sudo pacman -S jupyterlab`.\n",
    "3. To open Jupyter Lab, go to some directory, and run `jupyter lab`."
   ]
  },
  {
   "cell_type": "markdown",
   "id": "02305a5a-41e5-4a0b-960f-ef6dc744460e",
   "metadata": {},
   "source": [
    "---\n",
    "## Variables and Operators <a name='variables-and-operators'></a>"
   ]
  },
  {
   "cell_type": "markdown",
   "id": "fca9d2ba-510e-4584-b8fd-1552268fc578",
   "metadata": {},
   "source": [
    "---\n",
    "## Data Types <a name='data-types'></a>"
   ]
  },
  {
   "cell_type": "markdown",
   "id": "99caf04b-08d7-47e5-9a41-df55f1a81247",
   "metadata": {},
   "source": [
    "---\n",
    "## Conditionals <a name='conditionals'></a>"
   ]
  },
  {
   "cell_type": "markdown",
   "id": "a1c9a69e-01a7-4b2f-a102-8a62804b28e7",
   "metadata": {},
   "source": [
    "---\n",
    "## Loops <a name='loops'></a>"
   ]
  },
  {
   "cell_type": "markdown",
   "id": "add95785-c5ef-4913-99d4-465b4d546e0a",
   "metadata": {},
   "source": [
    "---\n",
    "## Functions <a name='functions'></a>"
   ]
  },
  {
   "cell_type": "code",
   "execution_count": null,
   "id": "2b0505e2-1d6f-4ac4-9e00-4a2a36b8a279",
   "metadata": {},
   "outputs": [],
   "source": []
  }
 ],
 "metadata": {
  "kernelspec": {
   "display_name": "Python 3",
   "language": "python",
   "name": "python3"
  },
  "language_info": {
   "codemirror_mode": {
    "name": "ipython",
    "version": 3
   },
   "file_extension": ".py",
   "mimetype": "text/x-python",
   "name": "python",
   "nbconvert_exporter": "python",
   "pygments_lexer": "ipython3",
   "version": "3.9.6"
  }
 },
 "nbformat": 4,
 "nbformat_minor": 5
}
