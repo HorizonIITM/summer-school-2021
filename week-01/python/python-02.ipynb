{
 "cells": [
  {
   "cell_type": "markdown",
   "id": "6f7051d0-fa37-4e1c-9c95-017089985361",
   "metadata": {},
   "source": [
    "# Module 1.2 - **Python Part 2**\n",
    "## _Ashish Shroti_ and _Rajeshkumar K_"
   ]
  },
  {
   "cell_type": "markdown",
   "id": "701b1a37-b6e8-4f75-824e-91b2b4815e32",
   "metadata": {},
   "source": [
    "---\n",
    "# Table of Contents\n",
    "7. [File-Handling](#file-handling)\n",
    "8. [Object Oriented Programming](#object-oriented-programming)\n",
    "9. [Modules](#modules)\n",
    "10. [NumPy](#numpy)\n",
    "11. [Matplotlib](#matplotlib)\n",
    "12. [Pandas](#pandas)"
   ]
  },
  {
   "cell_type": "markdown",
   "id": "1bf40d16-ffa6-488a-bbef-0256388cd954",
   "metadata": {},
   "source": [
    "---\n",
    "## File Handling <a name='file-handling'></a>"
   ]
  },
  {
   "cell_type": "markdown",
   "id": "0e7c810e-179b-4c64-9117-c74b38abf4e6",
   "metadata": {},
   "source": [
    "Function for opening files: `open()`\n",
    "Syntax:\n",
    "```python\n",
    "open(filename, mode)\n",
    "```\n",
    "Returns a buffered stream, similar to a generator/iterable.\n",
    "\n",
    "Available modes:\n",
    "1. `r` - read only\n",
    "2. `w` - write only\n",
    "3. `a` - append\n",
    "4. `r+` - read and write\n",
    "\n",
    "In addition, the type of data can also be specified:\n",
    "1. `t` - text mode\n",
    "2. `b` - binary mode"
   ]
  },
  {
   "cell_type": "code",
   "execution_count": 14,
   "id": "0c728ff3-0bcb-4ea7-bb12-7a4132c63db8",
   "metadata": {},
   "outputs": [],
   "source": [
    "tcm = open('./data/the-communist-manifesto.txt','r')"
   ]
  },
  {
   "cell_type": "code",
   "execution_count": 2,
   "id": "a11c7d5e-09d8-4998-a7f7-b36365c7280e",
   "metadata": {},
   "outputs": [
    {
     "data": {
      "text/plain": [
       "<_io.TextIOWrapper name='./data/the-communist-manifesto.txt' mode='r' encoding='UTF-8'>"
      ]
     },
     "execution_count": 2,
     "metadata": {},
     "output_type": "execute_result"
    }
   ],
   "source": [
    "tcm"
   ]
  },
  {
   "cell_type": "markdown",
   "id": "8b864207-ae79-4107-9aa0-035d12c16af9",
   "metadata": {},
   "source": [
    "Opened file can be read using:\n",
    "```python\n",
    "file.read()\n",
    "file.readline()\n",
    "file.readlines()\n",
    "```\n",
    "Usage of each method:\n",
    "1. `read()` - will return the entire file as a single string\n",
    "2. `readline()` - will return the current line as a single string\n",
    "3. `readlines()` - will return the entire file as a list of strings"
   ]
  },
  {
   "cell_type": "code",
   "execution_count": 8,
   "id": "0de762a4-b916-4ea6-a15f-2fa7981cf006",
   "metadata": {},
   "outputs": [
    {
     "name": "stdout",
     "output_type": "stream",
     "text": [
      "word1\tword2\n"
     ]
    }
   ],
   "source": [
    "print('word1\\tword2')"
   ]
  },
  {
   "cell_type": "code",
   "execution_count": 13,
   "id": "52c5a70f-3f67-48b5-9b0b-d96181ab5b98",
   "metadata": {},
   "outputs": [
    {
     "data": {
      "text/plain": [
       "'All the Powers o'"
      ]
     },
     "execution_count": 13,
     "metadata": {},
     "output_type": "execute_result"
    }
   ],
   "source": [
    "tcm.readline(16)"
   ]
  },
  {
   "cell_type": "code",
   "execution_count": 15,
   "id": "4796432b-2b4e-49fd-8ee2-b60c7b3b1a91",
   "metadata": {},
   "outputs": [
    {
     "data": {
      "text/plain": [
       "['MANIFESTO OF THE COMMUNIST PARTY\\n',\n",
       " '\\n',\n",
       " 'A spectre is haunting Europe--the spectre of Communism.\\n',\n",
       " 'All the Powers of old Europe have entered into a holy alliance to\\n',\n",
       " 'exorcise this spectre: Pope and Czar, Metternich and Guizot,\\n',\n",
       " 'French Radicals and German police-spies.\\n',\n",
       " '\\n',\n",
       " 'Where is the party in opposition that has not been decried as\\n',\n",
       " 'Communistic by its opponents in power?  Where is the Opposition\\n',\n",
       " 'that has not hurled back the branding reproach of Communism,\\n',\n",
       " 'against the more advanced opposition parties, as well as against\\n',\n",
       " 'its reactionary adversaries?\\n',\n",
       " '\\n',\n",
       " 'Two things result from this fact.\\n',\n",
       " '\\n',\n",
       " 'I.  Communism is already acknowledged by all European Powers\\n',\n",
       " 'to be itself a Power.\\n',\n",
       " '\\n',\n",
       " 'II.  It is high time that Communists should openly, in the\\n',\n",
       " 'face of the whole world, publish their views, their aims, their\\n',\n",
       " 'tendencies, and meet this nursery tale of the Spectre of\\n',\n",
       " 'Communism with a Manifesto of the party itself.\\n',\n",
       " '\\n',\n",
       " 'To this end, Communists of various nationalities have\\n',\n",
       " 'assembled in London, and sketched the following Manifesto, to be\\n',\n",
       " 'published in the English, French, German, Italian, Flemish and\\n',\n",
       " 'Danish languages.']"
      ]
     },
     "execution_count": 15,
     "metadata": {},
     "output_type": "execute_result"
    }
   ],
   "source": [
    "tcm.readlines()"
   ]
  },
  {
   "cell_type": "markdown",
   "id": "1dad0e0e-160e-4f7d-96dd-34fbf87ace53",
   "metadata": {},
   "source": [
    "Opened file can be written using:\n",
    "```python\n",
    "file.write()\n",
    "file.writelines()\n",
    "```\n",
    "\n",
    "Usage:\n",
    "1. `write()` - writes the string to the file\n",
    "2. `writelines()` - writes a list of lines to the file"
   ]
  },
  {
   "cell_type": "markdown",
   "id": "d7272e47-624a-47d1-9a40-fcd008d5d89f",
   "metadata": {},
   "source": [
    "Usage with `with()`:\n",
    "```python\n",
    "with open(file, mode) as f:\n",
    "    f.method(argument)\n",
    "```"
   ]
  },
  {
   "cell_type": "markdown",
   "id": "1b468d1d-9ffc-4d8d-b9d3-52e32a65913b",
   "metadata": {},
   "source": [
    "Opened files should be closed.\n",
    "```python\n",
    "file.close()\n",
    "```"
   ]
  },
  {
   "cell_type": "code",
   "execution_count": 16,
   "id": "603a2162-cb15-4bf1-9acc-44e5b4504d75",
   "metadata": {},
   "outputs": [],
   "source": [
    "tcm.close()"
   ]
  },
  {
   "cell_type": "code",
   "execution_count": 26,
   "id": "7d45f850-e89b-415d-bbbc-e268b9e5159f",
   "metadata": {},
   "outputs": [],
   "source": [
    "with open('./data/alpha.txt','w') as newfile:\n",
    "    newfile.write('something else')"
   ]
  },
  {
   "cell_type": "code",
   "execution_count": 20,
   "id": "ae113408-8de0-430c-a2d3-d5d1a3e2694f",
   "metadata": {},
   "outputs": [],
   "source": [
    "with open('./data/points.txt','a') as newfile:\n",
    "    newfile.write('1. point number one\\n')\n",
    "    newfile.write('2. point number two\\n')\n",
    "    newfile.write('3. point number three\\n')"
   ]
  },
  {
   "cell_type": "markdown",
   "id": "7765f275-1283-4096-aea4-b57cbfd6adc5",
   "metadata": {},
   "source": [
    "Reading binary files"
   ]
  },
  {
   "cell_type": "code",
   "execution_count": 21,
   "id": "a3c9f683-2230-4b78-8f20-f2ebe58c7f4b",
   "metadata": {},
   "outputs": [
    {
     "name": "stdout",
     "output_type": "stream",
     "text": [
      "b'\\x89PNG\\r\\n\\x1a\\n\\x00\\x00'\n"
     ]
    }
   ],
   "source": [
    "hor = open('./data/horizon.png','rb')\n",
    "print(hor.read(10))"
   ]
  },
  {
   "cell_type": "markdown",
   "id": "f7512d7e-bd98-4971-8b8d-1669b5b8d551",
   "metadata": {},
   "source": [
    "Other file handling functions:\n",
    "```python\n",
    "remove(file) # for deleting files\n",
    "rename(oldname, newname) # for renaming files\n",
    "```"
   ]
  },
  {
   "cell_type": "markdown",
   "id": "02305a5a-41e5-4a0b-960f-ef6dc744460e",
   "metadata": {},
   "source": [
    "---\n",
    "## Object Oriented Programming <a name='object-oriented-programming'></a>"
   ]
  },
  {
   "cell_type": "markdown",
   "id": "039e383f-9609-4464-9f57-d95003319722",
   "metadata": {},
   "source": [
    "Contrary to the practice of [procedural programming](https://en.wikipedia.org/wiki/Procedural_programming)\n",
    "where programs are made of set of procedures or routines (or subroutines), or to that of\n",
    "[functional programming](https://en.wikipedia.org/wiki/Functional_programming) - programs are made of set of\n",
    "interacting **objects**. There is a notion of **self** to each object, with variables and functions that are\n",
    "present in all objects. There exist **classes** such objects.\n",
    "\n",
    "Level of abstraction highly useful for code with versatile use cases, especially scientific programming and\n",
    "computation libraries.\n",
    "\n",
    "And irrespective of what paradigm you choose to program, behind-the-scenes,\n",
    "> everything in python is an object, even the classes"
   ]
  },
  {
   "cell_type": "markdown",
   "id": "fca9d2ba-510e-4584-b8fd-1552268fc578",
   "metadata": {},
   "source": [
    "---\n",
    "## Modules <a name='modules'></a>"
   ]
  },
  {
   "cell_type": "markdown",
   "id": "8090a506-8f69-4eb8-aec1-68d124af35b2",
   "metadata": {},
   "source": [
    "Functions and libraries organised into **Modules**. Such modules should be *imported* to use the commands and \n",
    "functions that they provide. This is done using\n",
    "```python\n",
    "import modulename\n",
    "```\n",
    "\n",
    "Specific libraries from the modules can be imported by specifying their names\n",
    "```python\n",
    "from modulename import lib1 lib2\n",
    "```\n",
    "\n",
    "All libraries of a module can be imported using\n",
    "```python\n",
    "from modulename import *\n",
    "# try not to do this\n",
    "```\n",
    "\n",
    "Imported stuff can be custom named using\n",
    "```python\n",
    "import module as m\n",
    "```\n",
    "\n",
    "Submodules can be imported by using **dot** notation\n",
    "```python\n",
    "import module.submodule as sm\n",
    "```"
   ]
  },
  {
   "cell_type": "code",
   "execution_count": null,
   "id": "46a0b423-e010-4ffc-9535-67ccebf1c948",
   "metadata": {},
   "outputs": [],
   "source": []
  },
  {
   "cell_type": "code",
   "execution_count": 27,
   "id": "3505ae79-8bf7-4278-8b8d-9b1da39cc2de",
   "metadata": {},
   "outputs": [],
   "source": [
    "import random"
   ]
  },
  {
   "cell_type": "code",
   "execution_count": 28,
   "id": "c38c7535-7f23-469f-b0b3-478024ec0848",
   "metadata": {},
   "outputs": [
    {
     "data": {
      "text/plain": [
       "\u001b[1;31mType:\u001b[0m        module\n",
       "\u001b[1;31mString form:\u001b[0m <module 'random' from '/usr/lib/python3.9/random.py'>\n",
       "\u001b[1;31mFile:\u001b[0m        /usr/lib/python3.9/random.py\n",
       "\u001b[1;31mDocstring:\u001b[0m  \n",
       "Random variable generators.\n",
       "\n",
       "    bytes\n",
       "    -----\n",
       "           uniform bytes (values between 0 and 255)\n",
       "\n",
       "    integers\n",
       "    --------\n",
       "           uniform within range\n",
       "\n",
       "    sequences\n",
       "    ---------\n",
       "           pick random element\n",
       "           pick random sample\n",
       "           pick weighted random sample\n",
       "           generate random permutation\n",
       "\n",
       "    distributions on the real line:\n",
       "    ------------------------------\n",
       "           uniform\n",
       "           triangular\n",
       "           normal (Gaussian)\n",
       "           lognormal\n",
       "           negative exponential\n",
       "           gamma\n",
       "           beta\n",
       "           pareto\n",
       "           Weibull\n",
       "\n",
       "    distributions on the circle (angles 0 to 2pi)\n",
       "    ---------------------------------------------\n",
       "           circular uniform\n",
       "           von Mises\n",
       "\n",
       "General notes on the underlying Mersenne Twister core generator:\n",
       "\n",
       "* The period is 2**19937-1.\n",
       "* It is one of the most extensively tested generators in existence.\n",
       "* The random() method is implemented in C, executes in a single Python step,\n",
       "  and is, therefore, threadsafe.\n"
      ]
     },
     "metadata": {},
     "output_type": "display_data"
    }
   ],
   "source": [
    "random."
   ]
  },
  {
   "cell_type": "markdown",
   "id": "8b28f369-95ff-4b4c-b3e4-ba2a1c462556",
   "metadata": {},
   "source": [
    "Functions and methods from a module can be accessed using **dot** notation."
   ]
  },
  {
   "cell_type": "code",
   "execution_count": 40,
   "id": "225b0651-0a7a-44a4-bfed-5a67cc07b559",
   "metadata": {},
   "outputs": [
    {
     "data": {
      "text/plain": [
       "0.9009546464812607"
      ]
     },
     "execution_count": 40,
     "metadata": {},
     "output_type": "execute_result"
    }
   ],
   "source": [
    "random.random()"
   ]
  },
  {
   "cell_type": "markdown",
   "id": "99caf04b-08d7-47e5-9a41-df55f1a81247",
   "metadata": {},
   "source": [
    "---\n",
    "## NumPy <a name='numpy'></a>"
   ]
  },
  {
   "cell_type": "markdown",
   "id": "3ba2b793-9659-4733-b3e2-30911d4862e7",
   "metadata": {},
   "source": [
    "NumPy provides n-dimensional arrays to python, similar to the default `array` datatype, but with a overhaul of\n",
    "features. The prime difference is vectorisation, which is absent in the default python arrays. Many data processing\n",
    "libraries are built/based upon NumPy (pandas, OpenCV, Torch)"
   ]
  },
  {
   "cell_type": "code",
   "execution_count": 41,
   "id": "16cef436-9bac-4b45-a16c-3c71bb2acfcd",
   "metadata": {},
   "outputs": [],
   "source": [
    "import numpy as np"
   ]
  },
  {
   "cell_type": "markdown",
   "id": "20ca782b-4016-4229-a887-f6c4277b3aae",
   "metadata": {},
   "source": [
    "### Basics\n",
    "The main objects of NumPy are homogenous (same datatype) multi-dimensional arrays (`ndarray`). The indexes are tuples of integers.\n",
    "\n",
    "An array can be initiated using\n",
    "```python\n",
    "np.array(arraylist)\n",
    "```\n",
    "\n",
    "where `arraylist` can be a flat list (in which case the ndarray will be 1 dimensional) or can be a nested list."
   ]
  },
  {
   "cell_type": "code",
   "execution_count": 51,
   "id": "1205e9d8-8163-42a1-a5c8-ff5ca0b80300",
   "metadata": {},
   "outputs": [
    {
     "name": "stdout",
     "output_type": "stream",
     "text": [
      "3\n"
     ]
    }
   ],
   "source": [
    "a1 = np.array([1,2,3])\n",
    "print(a1.size)"
   ]
  },
  {
   "cell_type": "code",
   "execution_count": 53,
   "id": "576f3e30-cd4b-4acb-bba3-c1c8e7166620",
   "metadata": {},
   "outputs": [
    {
     "name": "stdout",
     "output_type": "stream",
     "text": [
      "float64\n"
     ]
    }
   ],
   "source": [
    "a2 = np.array([\n",
    "    [1.,2,3],\n",
    "    [4,5,6],\n",
    "    [7,8,9]\n",
    "])\n",
    "print(a2.dtype)"
   ]
  },
  {
   "cell_type": "markdown",
   "id": "25467874-5584-4c80-9d8f-072b28a98886",
   "metadata": {},
   "source": [
    "Each numpy array has a set of *attributes* (or defining features). Some of them are:\n",
    "1. `ndim` - number of axes of the array (axis = dimensions)\n",
    "2. `shape` - tuple containing size of array in each dimension\n",
    "3. `size` - total number of elements in the array\n",
    "4. `dtype` - data type of the elements of the array\n",
    "\n",
    "The attributes can be accessed using the dot notation:\n",
    "```python\n",
    "narray.attribute\n",
    "```"
   ]
  },
  {
   "cell_type": "code",
   "execution_count": null,
   "id": "865795f7-0604-4e93-adde-25ca2737bee2",
   "metadata": {},
   "outputs": [],
   "source": [
    "print(f\"{a1.ndim = }\")\n",
    "print(f\"{a2.ndim = }\")"
   ]
  },
  {
   "cell_type": "code",
   "execution_count": 49,
   "id": "7cc0a189-7998-4307-8f9c-c7c71c4ff2ff",
   "metadata": {},
   "outputs": [
    {
     "name": "stdout",
     "output_type": "stream",
     "text": [
      "(3,)\n"
     ]
    }
   ],
   "source": [
    "print(a1.shape)"
   ]
  },
  {
   "cell_type": "markdown",
   "id": "d0a5baf6-3549-44a8-a98a-dfe1e7258bd1",
   "metadata": {},
   "source": [
    "#### Vectorisation demonstration"
   ]
  },
  {
   "cell_type": "code",
   "execution_count": 54,
   "id": "a036295d-b8d6-4405-8a6d-5d7e5655ad13",
   "metadata": {},
   "outputs": [],
   "source": [
    "import array"
   ]
  },
  {
   "cell_type": "code",
   "execution_count": 55,
   "id": "5d45df84-35cd-4c88-b831-efbe7498cfdb",
   "metadata": {},
   "outputs": [],
   "source": [
    "dearray = array.array('i', [1, 2, 3])\n",
    "nparray = np.array([1, 2, 3])"
   ]
  },
  {
   "cell_type": "code",
   "execution_count": 56,
   "id": "78f69c8d-55bf-417c-86e8-a0647f58aa67",
   "metadata": {},
   "outputs": [
    {
     "data": {
      "text/plain": [
       "array('i', [1, 4, 9])"
      ]
     },
     "execution_count": 56,
     "metadata": {},
     "output_type": "execute_result"
    }
   ],
   "source": [
    "array.array('i', [i**2 for i in dearray])"
   ]
  },
  {
   "cell_type": "code",
   "execution_count": 57,
   "id": "8ce85103-fb51-4055-8177-5f6d997a1326",
   "metadata": {},
   "outputs": [
    {
     "data": {
      "text/plain": [
       "array([1, 4, 9])"
      ]
     },
     "execution_count": 57,
     "metadata": {},
     "output_type": "execute_result"
    }
   ],
   "source": [
    "nparray**2"
   ]
  },
  {
   "cell_type": "markdown",
   "id": "97175f0c-96e0-4439-92d9-0959bfd16575",
   "metadata": {},
   "source": [
    "#### Array creation\n",
    "Arrays can be created using the `array()` method."
   ]
  },
  {
   "cell_type": "code",
   "execution_count": 58,
   "id": "eb444754-f796-4d35-8761-42cce4e34c27",
   "metadata": {},
   "outputs": [
    {
     "data": {
      "text/plain": [
       "\u001b[1;31mDocstring:\u001b[0m\n",
       "array(object, dtype=None, *, copy=True, order='K', subok=False, ndmin=0,\n",
       "      like=None)\n",
       "\n",
       "Create an array.\n",
       "\n",
       "Parameters\n",
       "----------\n",
       "object : array_like\n",
       "    An array, any object exposing the array interface, an object whose\n",
       "    __array__ method returns an array, or any (nested) sequence.\n",
       "dtype : data-type, optional\n",
       "    The desired data-type for the array.  If not given, then the type will\n",
       "    be determined as the minimum type required to hold the objects in the\n",
       "    sequence.\n",
       "copy : bool, optional\n",
       "    If true (default), then the object is copied.  Otherwise, a copy will\n",
       "    only be made if __array__ returns a copy, if obj is a nested sequence,\n",
       "    or if a copy is needed to satisfy any of the other requirements\n",
       "    (`dtype`, `order`, etc.).\n",
       "order : {'K', 'A', 'C', 'F'}, optional\n",
       "    Specify the memory layout of the array. If object is not an array, the\n",
       "    newly created array will be in C order (row major) unless 'F' is\n",
       "    specified, in which case it will be in Fortran order (column major).\n",
       "    If object is an array the following holds.\n",
       "\n",
       "    ===== ========= ===================================================\n",
       "    order  no copy                     copy=True\n",
       "    ===== ========= ===================================================\n",
       "    'K'   unchanged F & C order preserved, otherwise most similar order\n",
       "    'A'   unchanged F order if input is F and not C, otherwise C order\n",
       "    'C'   C order   C order\n",
       "    'F'   F order   F order\n",
       "    ===== ========= ===================================================\n",
       "\n",
       "    When ``copy=False`` and a copy is made for other reasons, the result is\n",
       "    the same as if ``copy=True``, with some exceptions for `A`, see the\n",
       "    Notes section. The default order is 'K'.\n",
       "subok : bool, optional\n",
       "    If True, then sub-classes will be passed-through, otherwise\n",
       "    the returned array will be forced to be a base-class array (default).\n",
       "ndmin : int, optional\n",
       "    Specifies the minimum number of dimensions that the resulting\n",
       "    array should have.  Ones will be pre-pended to the shape as\n",
       "    needed to meet this requirement.\n",
       "like : array_like\n",
       "    Reference object to allow the creation of arrays which are not\n",
       "    NumPy arrays. If an array-like passed in as ``like`` supports\n",
       "    the ``__array_function__`` protocol, the result will be defined\n",
       "    by it. In this case, it ensures the creation of an array object\n",
       "    compatible with that passed in via this argument.\n",
       "\n",
       "    .. note::\n",
       "        The ``like`` keyword is an experimental feature pending on\n",
       "        acceptance of :ref:`NEP 35 <NEP35>`.\n",
       "\n",
       "    .. versionadded:: 1.20.0\n",
       "\n",
       "Returns\n",
       "-------\n",
       "out : ndarray\n",
       "    An array object satisfying the specified requirements.\n",
       "\n",
       "See Also\n",
       "--------\n",
       "empty_like : Return an empty array with shape and type of input.\n",
       "ones_like : Return an array of ones with shape and type of input.\n",
       "zeros_like : Return an array of zeros with shape and type of input.\n",
       "full_like : Return a new array with shape of input filled with value.\n",
       "empty : Return a new uninitialized array.\n",
       "ones : Return a new array setting values to one.\n",
       "zeros : Return a new array setting values to zero.\n",
       "full : Return a new array of given shape filled with value.\n",
       "\n",
       "\n",
       "Notes\n",
       "-----\n",
       "When order is 'A' and `object` is an array in neither 'C' nor 'F' order,\n",
       "and a copy is forced by a change in dtype, then the order of the result is\n",
       "not necessarily 'C' as expected. This is likely a bug.\n",
       "\n",
       "Examples\n",
       "--------\n",
       ">>> np.array([1, 2, 3])\n",
       "array([1, 2, 3])\n",
       "\n",
       "Upcasting:\n",
       "\n",
       ">>> np.array([1, 2, 3.0])\n",
       "array([ 1.,  2.,  3.])\n",
       "\n",
       "More than one dimension:\n",
       "\n",
       ">>> np.array([[1, 2], [3, 4]])\n",
       "array([[1, 2],\n",
       "       [3, 4]])\n",
       "\n",
       "Minimum dimensions 2:\n",
       "\n",
       ">>> np.array([1, 2, 3], ndmin=2)\n",
       "array([[1, 2, 3]])\n",
       "\n",
       "Type provided:\n",
       "\n",
       ">>> np.array([1, 2, 3], dtype=complex)\n",
       "array([ 1.+0.j,  2.+0.j,  3.+0.j])\n",
       "\n",
       "Data-type consisting of more than one element:\n",
       "\n",
       ">>> x = np.array([(1,2),(3,4)],dtype=[('a','<i4'),('b','<i4')])\n",
       ">>> x['a']\n",
       "array([1, 3])\n",
       "\n",
       "Creating an array from sub-classes:\n",
       "\n",
       ">>> np.array(np.mat('1 2; 3 4'))\n",
       "array([[1, 2],\n",
       "       [3, 4]])\n",
       "\n",
       ">>> np.array(np.mat('1 2; 3 4'), subok=True)\n",
       "matrix([[1, 2],\n",
       "        [3, 4]])\n",
       "\u001b[1;31mType:\u001b[0m      builtin_function_or_method\n"
      ]
     },
     "metadata": {},
     "output_type": "display_data"
    }
   ],
   "source": [
    "np.array?"
   ]
  },
  {
   "cell_type": "code",
   "execution_count": 59,
   "id": "ae95b106-10c5-4b6d-af38-6ec59d7c7888",
   "metadata": {},
   "outputs": [
    {
     "data": {
      "text/plain": [
       "array([[1.+0.j, 2.+0.j],\n",
       "       [3.+0.j, 4.+0.j]])"
      ]
     },
     "execution_count": 59,
     "metadata": {},
     "output_type": "execute_result"
    }
   ],
   "source": [
    "np.array([[1, 2], [3, 4]], dtype='complex')"
   ]
  },
  {
   "cell_type": "code",
   "execution_count": 60,
   "id": "52bb1146-b21e-42b0-9397-afa06b88fac4",
   "metadata": {},
   "outputs": [
    {
     "data": {
      "text/plain": [
       "array([1., 2., 3.])"
      ]
     },
     "execution_count": 60,
     "metadata": {},
     "output_type": "execute_result"
    }
   ],
   "source": [
    "np.array([1, 2, 3], dtype='float64')"
   ]
  },
  {
   "cell_type": "markdown",
   "id": "957eba46-1a92-4256-9703-2676e7b06065",
   "metadata": {},
   "source": [
    "Arrays can also be initialised in trivial forms:\n",
    "1. `np.zeros` - creates arrays with all elements 0\n",
    "2. `np.ones` - creates arrays with all elements 1\n",
    "3. `np.empty` - creates arrays with random numbers generated based on current system state"
   ]
  },
  {
   "cell_type": "code",
   "execution_count": 61,
   "id": "7b019548-7d06-4cec-afbe-68ccf6d73461",
   "metadata": {},
   "outputs": [
    {
     "data": {
      "text/plain": [
       "\u001b[1;31mDocstring:\u001b[0m\n",
       "zeros(shape, dtype=float, order='C', *, like=None)\n",
       "\n",
       "Return a new array of given shape and type, filled with zeros.\n",
       "\n",
       "Parameters\n",
       "----------\n",
       "shape : int or tuple of ints\n",
       "    Shape of the new array, e.g., ``(2, 3)`` or ``2``.\n",
       "dtype : data-type, optional\n",
       "    The desired data-type for the array, e.g., `numpy.int8`.  Default is\n",
       "    `numpy.float64`.\n",
       "order : {'C', 'F'}, optional, default: 'C'\n",
       "    Whether to store multi-dimensional data in row-major\n",
       "    (C-style) or column-major (Fortran-style) order in\n",
       "    memory.\n",
       "like : array_like\n",
       "    Reference object to allow the creation of arrays which are not\n",
       "    NumPy arrays. If an array-like passed in as ``like`` supports\n",
       "    the ``__array_function__`` protocol, the result will be defined\n",
       "    by it. In this case, it ensures the creation of an array object\n",
       "    compatible with that passed in via this argument.\n",
       "\n",
       "    .. note::\n",
       "        The ``like`` keyword is an experimental feature pending on\n",
       "        acceptance of :ref:`NEP 35 <NEP35>`.\n",
       "\n",
       "    .. versionadded:: 1.20.0\n",
       "\n",
       "Returns\n",
       "-------\n",
       "out : ndarray\n",
       "    Array of zeros with the given shape, dtype, and order.\n",
       "\n",
       "See Also\n",
       "--------\n",
       "zeros_like : Return an array of zeros with shape and type of input.\n",
       "empty : Return a new uninitialized array.\n",
       "ones : Return a new array setting values to one.\n",
       "full : Return a new array of given shape filled with value.\n",
       "\n",
       "Examples\n",
       "--------\n",
       ">>> np.zeros(5)\n",
       "array([ 0.,  0.,  0.,  0.,  0.])\n",
       "\n",
       ">>> np.zeros((5,), dtype=int)\n",
       "array([0, 0, 0, 0, 0])\n",
       "\n",
       ">>> np.zeros((2, 1))\n",
       "array([[ 0.],\n",
       "       [ 0.]])\n",
       "\n",
       ">>> s = (2,2)\n",
       ">>> np.zeros(s)\n",
       "array([[ 0.,  0.],\n",
       "       [ 0.,  0.]])\n",
       "\n",
       ">>> np.zeros((2,), dtype=[('x', 'i4'), ('y', 'i4')]) # custom dtype\n",
       "array([(0, 0), (0, 0)],\n",
       "      dtype=[('x', '<i4'), ('y', '<i4')])\n",
       "\u001b[1;31mType:\u001b[0m      builtin_function_or_method\n"
      ]
     },
     "metadata": {},
     "output_type": "display_data"
    }
   ],
   "source": [
    "np.zeros?"
   ]
  },
  {
   "cell_type": "code",
   "execution_count": 62,
   "id": "f19db506-5412-4d86-8a05-b02aa738e90d",
   "metadata": {},
   "outputs": [
    {
     "data": {
      "text/plain": [
       "array([[0., 0., 0.],\n",
       "       [0., 0., 0.]])"
      ]
     },
     "execution_count": 62,
     "metadata": {},
     "output_type": "execute_result"
    }
   ],
   "source": [
    "np.zeros((2, 3))"
   ]
  },
  {
   "cell_type": "code",
   "execution_count": 63,
   "id": "4659e86f-c914-4869-8432-413861ffd1cd",
   "metadata": {},
   "outputs": [
    {
     "data": {
      "text/plain": [
       "array([[1., 1., 1., 1., 1., 1., 1., 1.],\n",
       "       [1., 1., 1., 1., 1., 1., 1., 1.],\n",
       "       [1., 1., 1., 1., 1., 1., 1., 1.],\n",
       "       [1., 1., 1., 1., 1., 1., 1., 1.]])"
      ]
     },
     "execution_count": 63,
     "metadata": {},
     "output_type": "execute_result"
    }
   ],
   "source": [
    "np.ones((4, 8))"
   ]
  },
  {
   "cell_type": "code",
   "execution_count": 73,
   "id": "61f6898f-fb2c-4249-981f-09c3f5695ace",
   "metadata": {},
   "outputs": [
    {
     "data": {
      "text/plain": [
       "array([[7.74860419e-299, 7.74860419e-299],\n",
       "       [7.74860419e-299, 7.74860419e-299]])"
      ]
     },
     "execution_count": 73,
     "metadata": {},
     "output_type": "execute_result"
    }
   ],
   "source": [
    "np.empty((2, 2))"
   ]
  },
  {
   "cell_type": "markdown",
   "id": "70ab3494-7457-42ee-923e-ee010f3a4c59",
   "metadata": {},
   "source": [
    "Arrays can be iniated as sequences using the methods:\n",
    "1. `np.arange` - similar to `range` from default python\n",
    "2. `np.linspace` - creates array with specified number of elements, rather than step size\n",
    "\n",
    "The syntax is:\n",
    "```python\n",
    "np.arange(start, end, stepsize)\n",
    "np.linspace(start, end, nelements)\n",
    "```"
   ]
  },
  {
   "cell_type": "code",
   "execution_count": 74,
   "id": "eab0108c-1188-4f3b-b225-4908b58c03e3",
   "metadata": {},
   "outputs": [
    {
     "data": {
      "text/plain": [
       "array([1. , 1.2, 1.4, 1.6, 1.8, 2. , 2.2, 2.4, 2.6, 2.8, 3. , 3.2, 3.4,\n",
       "       3.6, 3.8, 4. , 4.2, 4.4, 4.6, 4.8, 5. , 5.2, 5.4, 5.6, 5.8, 6. ,\n",
       "       6.2, 6.4, 6.6, 6.8, 7. , 7.2, 7.4, 7.6, 7.8, 8. , 8.2, 8.4, 8.6,\n",
       "       8.8, 9. , 9.2, 9.4, 9.6, 9.8])"
      ]
     },
     "execution_count": 74,
     "metadata": {},
     "output_type": "execute_result"
    }
   ],
   "source": [
    "np.arange(1, 10, 0.2)"
   ]
  },
  {
   "cell_type": "code",
   "execution_count": 75,
   "id": "947311a1-923e-4e5b-b529-2eebc8d01a30",
   "metadata": {},
   "outputs": [
    {
     "data": {
      "text/plain": [
       "array([ 1.,  8., 15., 22., 29., 36., 43., 50.])"
      ]
     },
     "execution_count": 75,
     "metadata": {},
     "output_type": "execute_result"
    }
   ],
   "source": [
    "np.linspace(1, 50, 8)"
   ]
  },
  {
   "cell_type": "markdown",
   "id": "195a74fc-bb84-44c5-8591-e0fb8b00569c",
   "metadata": {},
   "source": [
    "#### Operations\n",
    "Since NumPy arrays are vectorised, operations happen on element-wide basis."
   ]
  },
  {
   "cell_type": "code",
   "execution_count": 76,
   "id": "8be387f2-d3e7-4373-a22d-c0d02a0633ec",
   "metadata": {},
   "outputs": [],
   "source": [
    "A = np.array([0,23,140])\n",
    "B = np.array([33,33,33])"
   ]
  },
  {
   "cell_type": "code",
   "execution_count": 77,
   "id": "6bdd2392-68a5-4249-934f-e64895b299cd",
   "metadata": {},
   "outputs": [
    {
     "data": {
      "text/plain": [
       "array([  0,  69, 420])"
      ]
     },
     "execution_count": 77,
     "metadata": {},
     "output_type": "execute_result"
    }
   ],
   "source": [
    "A * 3"
   ]
  },
  {
   "cell_type": "code",
   "execution_count": 78,
   "id": "ebb1852b-2fdb-4508-be99-20686b08bf1f",
   "metadata": {},
   "outputs": [
    {
     "data": {
      "text/plain": [
       "array([66, 66, 66])"
      ]
     },
     "execution_count": 78,
     "metadata": {},
     "output_type": "execute_result"
    }
   ],
   "source": [
    "B * 2"
   ]
  },
  {
   "cell_type": "code",
   "execution_count": 79,
   "id": "ff98645e-57b9-47e2-85de-47e1df93681c",
   "metadata": {},
   "outputs": [
    {
     "data": {
      "text/plain": [
       "array([ 33,  56, 173])"
      ]
     },
     "execution_count": 79,
     "metadata": {},
     "output_type": "execute_result"
    }
   ],
   "source": [
    "A + B"
   ]
  },
  {
   "cell_type": "code",
   "execution_count": 80,
   "id": "7de25c48-d26f-4d82-b5bf-39da5d2bf7dd",
   "metadata": {},
   "outputs": [
    {
     "data": {
      "text/plain": [
       "array([ True,  True, False])"
      ]
     },
     "execution_count": 80,
     "metadata": {},
     "output_type": "execute_result"
    }
   ],
   "source": [
    "A < B"
   ]
  },
  {
   "cell_type": "markdown",
   "id": "3bd30b9d-1f81-4e9e-9784-6af7c27cfbd0",
   "metadata": {},
   "source": [
    "Three kinds of products are possible:\n",
    "1. `*` - Elementwise product\n",
    "2. `@` - Matrix product\n",
    "3. `dot()` - Matrix product again"
   ]
  },
  {
   "cell_type": "code",
   "execution_count": 85,
   "id": "82af7880-569e-4cea-bd66-de465c72bb1e",
   "metadata": {},
   "outputs": [],
   "source": [
    "A = np.array([\n",
    "    [2, 4],\n",
    "    [6, 8]\n",
    "])\n",
    "\n",
    "B = np.array([\n",
    "    [0, 1],\n",
    "    [3, 7]\n",
    "])"
   ]
  },
  {
   "cell_type": "code",
   "execution_count": 82,
   "id": "90b005f1-679c-49ea-817b-808dfd3981ce",
   "metadata": {},
   "outputs": [
    {
     "data": {
      "text/plain": [
       "array([[ 0,  4],\n",
       "       [18, 56]])"
      ]
     },
     "execution_count": 82,
     "metadata": {},
     "output_type": "execute_result"
    }
   ],
   "source": [
    "A * B"
   ]
  },
  {
   "cell_type": "code",
   "execution_count": 83,
   "id": "bc7ae739-dd50-4985-99b2-bed71b94c215",
   "metadata": {},
   "outputs": [
    {
     "data": {
      "text/plain": [
       "array([[12, 30],\n",
       "       [24, 62]])"
      ]
     },
     "execution_count": 83,
     "metadata": {},
     "output_type": "execute_result"
    }
   ],
   "source": [
    "A @ B"
   ]
  },
  {
   "cell_type": "code",
   "execution_count": 84,
   "id": "47ce9e87-3e3f-403f-8c88-f0c648b227df",
   "metadata": {},
   "outputs": [
    {
     "data": {
      "text/plain": [
       "array([[12, 30],\n",
       "       [24, 62]])"
      ]
     },
     "execution_count": 84,
     "metadata": {},
     "output_type": "execute_result"
    }
   ],
   "source": [
    "A.dot(B)"
   ]
  },
  {
   "cell_type": "markdown",
   "id": "899fda9d-a544-4b39-96ab-e8ec84188cd6",
   "metadata": {},
   "source": [
    "#### Unary operators and Universal functions\n",
    "+ Unary operators - operate on a single array and returns some value\n",
    "+ Universal functiosn - functions like Trigonometric, Logarithmic, and other standard functions, but vectorised."
   ]
  },
  {
   "cell_type": "code",
   "execution_count": 89,
   "id": "fa8280d6-38cc-4967-ba92-2cdd8e20cb73",
   "metadata": {},
   "outputs": [
    {
     "data": {
      "text/plain": [
       "array([[ 0.90929743, -0.7568025 ],\n",
       "       [-0.2794155 ,  0.98935825]])"
      ]
     },
     "execution_count": 89,
     "metadata": {},
     "output_type": "execute_result"
    }
   ],
   "source": [
    "np.sin(A)"
   ]
  },
  {
   "cell_type": "code",
   "execution_count": 90,
   "id": "c92be89b-5e05-41a5-b604-332903502304",
   "metadata": {},
   "outputs": [
    {
     "data": {
      "text/plain": [
       "array([[   7.3890561 ,   54.59815003],\n",
       "       [ 403.42879349, 2980.95798704]])"
      ]
     },
     "execution_count": 90,
     "metadata": {},
     "output_type": "execute_result"
    }
   ],
   "source": [
    "np.exp(A)"
   ]
  },
  {
   "cell_type": "code",
   "execution_count": 86,
   "id": "73978bee-3fb6-43f7-a726-9c7c624e15c0",
   "metadata": {},
   "outputs": [
    {
     "data": {
      "text/plain": [
       "2"
      ]
     },
     "execution_count": 86,
     "metadata": {},
     "output_type": "execute_result"
    }
   ],
   "source": [
    "A.min()"
   ]
  },
  {
   "cell_type": "code",
   "execution_count": 87,
   "id": "486a35f2-3c81-40f9-9c16-52244b2c71b0",
   "metadata": {},
   "outputs": [
    {
     "data": {
      "text/plain": [
       "20"
      ]
     },
     "execution_count": 87,
     "metadata": {},
     "output_type": "execute_result"
    }
   ],
   "source": [
    "A.sum()"
   ]
  },
  {
   "cell_type": "code",
   "execution_count": 88,
   "id": "a070c97f-d323-4b22-a6b4-26eac5dd4d3c",
   "metadata": {},
   "outputs": [
    {
     "data": {
      "text/plain": [
       "array([[0, 3],\n",
       "       [1, 7]])"
      ]
     },
     "execution_count": 88,
     "metadata": {},
     "output_type": "execute_result"
    }
   ],
   "source": [
    "B.transpose()"
   ]
  },
  {
   "cell_type": "markdown",
   "id": "f865cafe-f6f9-4e4a-a2cd-7ca0e7f9fe51",
   "metadata": {},
   "source": [
    "#### Slicing\n",
    "NumPy arrays can be sliced similar to python lists."
   ]
  },
  {
   "cell_type": "code",
   "execution_count": 91,
   "id": "c1904258-4feb-46f9-8784-d36ca4917c70",
   "metadata": {},
   "outputs": [
    {
     "name": "stdout",
     "output_type": "stream",
     "text": [
      "[8.41470985e-01 9.65130593e-01 9.99156036e-01 9.40387282e-01\n",
      " 7.94282337e-01 5.74410344e-01 3.01191382e-01 1.22464680e-16]\n"
     ]
    }
   ],
   "source": [
    "A = np.sin(np.linspace(1, np.pi, 8))\n",
    "print(A)"
   ]
  },
  {
   "cell_type": "code",
   "execution_count": 93,
   "id": "2e0777bf-eab9-4d81-b313-77fe38b6402b",
   "metadata": {},
   "outputs": [
    {
     "data": {
      "text/plain": [
       "array([9.65130593e-01, 9.40387282e-01, 5.74410344e-01, 1.22464680e-16])"
      ]
     },
     "execution_count": 93,
     "metadata": {},
     "output_type": "execute_result"
    }
   ],
   "source": [
    "A[1:8:2]"
   ]
  },
  {
   "cell_type": "code",
   "execution_count": 94,
   "id": "9da42f65-1427-4df2-932f-151cb1fbe1b0",
   "metadata": {},
   "outputs": [
    {
     "data": {
      "text/plain": [
       "array([1.22464680e-16, 3.01191382e-01, 5.74410344e-01, 7.94282337e-01,\n",
       "       9.40387282e-01, 9.99156036e-01, 9.65130593e-01, 8.41470985e-01])"
      ]
     },
     "execution_count": 94,
     "metadata": {},
     "output_type": "execute_result"
    }
   ],
   "source": [
    "A[::-1]"
   ]
  },
  {
   "cell_type": "code",
   "execution_count": 95,
   "id": "655f0131-bb42-4340-8674-283450da0390",
   "metadata": {},
   "outputs": [],
   "source": [
    "B = np.random.randint(1, 10, size=(5,5))"
   ]
  },
  {
   "cell_type": "code",
   "execution_count": 96,
   "id": "9e19d3fd-1405-4776-b57c-99c84f168efe",
   "metadata": {},
   "outputs": [
    {
     "name": "stdout",
     "output_type": "stream",
     "text": [
      "[[4 9 1 7 5]\n",
      " [9 9 7 8 6]\n",
      " [5 3 5 1 2]\n",
      " [2 4 8 9 7]\n",
      " [3 7 5 2 7]]\n"
     ]
    }
   ],
   "source": [
    "print(B)"
   ]
  },
  {
   "cell_type": "code",
   "execution_count": 97,
   "id": "6f75381b-17fc-48fe-9cca-50250460845c",
   "metadata": {},
   "outputs": [
    {
     "name": "stdout",
     "output_type": "stream",
     "text": [
      "[[9 7]\n",
      " [3 5]]\n"
     ]
    }
   ],
   "source": [
    "print(B[1:3,1:3])"
   ]
  },
  {
   "cell_type": "code",
   "execution_count": 100,
   "id": "3479b0c5-18b0-40ae-b8ad-1eab30e45dc9",
   "metadata": {},
   "outputs": [],
   "source": [
    "C = np.random.randint(1, 100, size=(3, 10, 10))"
   ]
  },
  {
   "cell_type": "code",
   "execution_count": 101,
   "id": "0c4dd9c6-b39f-4c95-a056-dd75ad26c5a0",
   "metadata": {},
   "outputs": [
    {
     "data": {
      "text/plain": [
       "array([[[24, 73, 11, 64, 69, 70, 67, 11, 51, 53],\n",
       "        [22, 42, 75, 52, 36, 12, 40, 71, 38, 25],\n",
       "        [ 3, 59, 24, 66, 30, 10, 95, 83, 21, 60],\n",
       "        [29, 32,  3,  4, 51, 17, 22, 74, 57, 87],\n",
       "        [55, 28, 13, 90, 88, 41, 53, 76, 34, 51],\n",
       "        [33, 17,  1, 62, 35, 73, 61, 92, 61, 74],\n",
       "        [87, 39, 38, 34, 91, 61, 98, 71,  1,  8],\n",
       "        [43, 92, 56, 92, 25,  1, 76, 32, 50, 70],\n",
       "        [36, 90, 70, 29, 99, 15, 48, 52, 23, 91],\n",
       "        [70, 36, 55, 39, 11, 98, 79, 83,  4, 48]],\n",
       "\n",
       "       [[10, 45, 47, 40,  4, 84,  9, 54, 26, 59],\n",
       "        [17, 40, 56, 13, 11, 96, 73, 48, 89,  6],\n",
       "        [19, 27, 89, 58, 25, 63, 54, 57, 81,  2],\n",
       "        [93, 87, 68, 56, 11, 61, 25, 77, 42, 29],\n",
       "        [36, 48, 93, 66, 65, 35, 44, 46, 62, 17],\n",
       "        [37, 29, 61, 40, 92, 32, 19, 97, 59, 76],\n",
       "        [24, 99, 60, 32, 45, 56, 76, 35, 28, 94],\n",
       "        [13,  7,  2, 13, 33, 43, 14, 73, 84, 90],\n",
       "        [13, 53, 91, 82, 63,  9, 96, 29,  2, 87],\n",
       "        [99,  1, 45, 18, 25, 80, 97,  5, 90, 29]],\n",
       "\n",
       "       [[15, 86, 90, 67, 40, 21, 83, 36, 10, 72],\n",
       "        [32, 30, 19, 10,  9,  7, 78, 67, 89, 64],\n",
       "        [60, 84, 32, 13,  9, 91, 63, 58, 73, 86],\n",
       "        [15,  6, 96,  9, 26, 96, 10, 88, 28, 62],\n",
       "        [50, 53, 50, 76, 38, 17, 97, 22, 29, 61],\n",
       "        [34, 97, 21, 90,  3, 55, 23, 87, 57, 47],\n",
       "        [64, 29, 46, 87, 14, 70, 46, 54, 29, 48],\n",
       "        [43, 38,  2, 59, 93,  5,  3, 70, 50, 23],\n",
       "        [19, 73, 69, 29, 11, 69, 51, 76,  3, 26],\n",
       "        [95, 31, 59, 92, 95, 87, 47, 96, 96, 63]]])"
      ]
     },
     "execution_count": 101,
     "metadata": {},
     "output_type": "execute_result"
    }
   ],
   "source": [
    "C"
   ]
  },
  {
   "cell_type": "code",
   "execution_count": 102,
   "id": "ada89334-f462-4c21-b7ec-fe56a188a2e3",
   "metadata": {},
   "outputs": [
    {
     "data": {
      "text/plain": [
       "array([[ 3, 59, 24, 66, 30, 10, 95, 83, 21, 60],\n",
       "       [19, 27, 89, 58, 25, 63, 54, 57, 81,  2],\n",
       "       [60, 84, 32, 13,  9, 91, 63, 58, 73, 86]])"
      ]
     },
     "execution_count": 102,
     "metadata": {},
     "output_type": "execute_result"
    }
   ],
   "source": [
    "C[::, 2, ::]"
   ]
  },
  {
   "cell_type": "markdown",
   "id": "383cf299-ee44-4721-b91e-fa005eaba23e",
   "metadata": {},
   "source": [
    "### Reshaping arrays\n",
    "\n",
    "Three methods can be used:\n",
    "1. `ndarray.ravel()` - returns flattened array (rightmost index changes the fastest)\n",
    "2. `ndarray.reshape(shape)`- returns array according to shape\n",
    "3. `ndarray.resize(shape)` - in-place reshape"
   ]
  },
  {
   "cell_type": "code",
   "execution_count": 103,
   "id": "6c5d33f5-3d82-443c-8166-3332cdf8ee58",
   "metadata": {},
   "outputs": [],
   "source": [
    "A = np.random.randint(1, 5, size=(3,3,3))"
   ]
  },
  {
   "cell_type": "code",
   "execution_count": 114,
   "id": "45a9134b-1ea7-4067-9780-7c99b3b43cd6",
   "metadata": {},
   "outputs": [
    {
     "data": {
      "text/plain": [
       "array([[1, 1, 1],\n",
       "       [2, 3, 1],\n",
       "       [4, 1, 4],\n",
       "       [4, 4, 4],\n",
       "       [1, 4, 3],\n",
       "       [2, 4, 3],\n",
       "       [1, 2, 2],\n",
       "       [1, 4, 4],\n",
       "       [1, 1, 3]])"
      ]
     },
     "execution_count": 114,
     "metadata": {},
     "output_type": "execute_result"
    }
   ],
   "source": [
    "A"
   ]
  },
  {
   "cell_type": "code",
   "execution_count": 109,
   "id": "e0800a52-e2d0-42be-9292-dce2b116ee0f",
   "metadata": {},
   "outputs": [
    {
     "data": {
      "text/plain": [
       "array([1, 1, 1, 2, 3, 1, 4, 1, 4, 4, 4, 4, 1, 4, 3, 2, 4, 3, 1, 2, 2, 1,\n",
       "       4, 4, 1, 1, 3])"
      ]
     },
     "execution_count": 109,
     "metadata": {},
     "output_type": "execute_result"
    }
   ],
   "source": [
    "A.ravel()"
   ]
  },
  {
   "cell_type": "code",
   "execution_count": 111,
   "id": "c3140294-47c0-44da-a1a1-80c79c5b9dd1",
   "metadata": {},
   "outputs": [
    {
     "data": {
      "text/plain": [
       "array([[1, 1, 1, 2, 3, 1, 4, 1, 4],\n",
       "       [4, 4, 4, 1, 4, 3, 2, 4, 3],\n",
       "       [1, 2, 2, 1, 4, 4, 1, 1, 3]])"
      ]
     },
     "execution_count": 111,
     "metadata": {},
     "output_type": "execute_result"
    }
   ],
   "source": [
    "A.reshape((3,-1))"
   ]
  },
  {
   "cell_type": "code",
   "execution_count": 113,
   "id": "9bd20d15-bb0a-41cf-822b-d745a08b2c4e",
   "metadata": {},
   "outputs": [],
   "source": [
    "A.resize((9,3))"
   ]
  },
  {
   "cell_type": "markdown",
   "id": "b8ffb6cf-182f-419c-b4bb-35b064972da1",
   "metadata": {},
   "source": [
    "### Making copies\n",
    "Three possible results:\n",
    "1. `=` - this creates no copy at all, but rather a link\n",
    "2. `ndarray.view()` and `slicing` - this creates a shallow copy; which means reshaping will not be transferred, but data changes will be transferred\n",
    "3. `ndarray.copy()` - creates a complete copy of an array and retains no link"
   ]
  },
  {
   "cell_type": "code",
   "execution_count": 120,
   "id": "d293ff10-3790-4547-89bd-82a2ffabe303",
   "metadata": {},
   "outputs": [],
   "source": [
    "A = np.random.randint(1, 5, size=(3, 3))"
   ]
  },
  {
   "cell_type": "code",
   "execution_count": 122,
   "id": "ca77d157-8e1a-4ae2-9c32-f7792e7b5cf6",
   "metadata": {},
   "outputs": [
    {
     "data": {
      "text/plain": [
       "array([[1, 4, 1],\n",
       "       [2, 3, 4],\n",
       "       [4, 3, 1]])"
      ]
     },
     "execution_count": 122,
     "metadata": {},
     "output_type": "execute_result"
    }
   ],
   "source": [
    "A"
   ]
  },
  {
   "cell_type": "code",
   "execution_count": 117,
   "id": "fe9a49b0-f4f7-4f72-9f7d-b37a18fe6790",
   "metadata": {},
   "outputs": [
    {
     "data": {
      "text/plain": [
       "array([[1, 2, 3],\n",
       "       [1, 3, 2],\n",
       "       [2, 4, 1]])"
      ]
     },
     "execution_count": 117,
     "metadata": {},
     "output_type": "execute_result"
    }
   ],
   "source": [
    "B = A\n",
    "B"
   ]
  },
  {
   "cell_type": "code",
   "execution_count": 118,
   "id": "6a1d0a12-6a97-491b-906c-e659de5ccf88",
   "metadata": {},
   "outputs": [],
   "source": [
    "A *= 2"
   ]
  },
  {
   "cell_type": "code",
   "execution_count": 119,
   "id": "4ef46f18-bd5f-46b7-9344-b1e73efb09a6",
   "metadata": {},
   "outputs": [
    {
     "data": {
      "text/plain": [
       "array([[2, 4, 6],\n",
       "       [2, 6, 4],\n",
       "       [4, 8, 2]])"
      ]
     },
     "execution_count": 119,
     "metadata": {},
     "output_type": "execute_result"
    }
   ],
   "source": [
    "B"
   ]
  },
  {
   "cell_type": "code",
   "execution_count": 121,
   "id": "ef4e1958-63ae-4928-80f8-fc61853ddde7",
   "metadata": {},
   "outputs": [
    {
     "data": {
      "text/plain": [
       "array([[1, 4, 1],\n",
       "       [2, 3, 4],\n",
       "       [4, 3, 1]])"
      ]
     },
     "execution_count": 121,
     "metadata": {},
     "output_type": "execute_result"
    }
   ],
   "source": [
    "B = A.view()\n",
    "B"
   ]
  },
  {
   "cell_type": "code",
   "execution_count": 123,
   "id": "65719dc3-e328-4356-9f3c-728525852857",
   "metadata": {},
   "outputs": [
    {
     "data": {
      "text/plain": [
       "array([[1, 4, 1, 2, 3, 4, 4, 3, 1]])"
      ]
     },
     "execution_count": 123,
     "metadata": {},
     "output_type": "execute_result"
    }
   ],
   "source": [
    "A = A.reshape((1,-1))\n",
    "A"
   ]
  },
  {
   "cell_type": "code",
   "execution_count": 124,
   "id": "6edc308f-dcf3-4fa5-b1b1-951786efbb6e",
   "metadata": {},
   "outputs": [
    {
     "data": {
      "text/plain": [
       "array([[1, 4, 1],\n",
       "       [2, 3, 4],\n",
       "       [4, 3, 1]])"
      ]
     },
     "execution_count": 124,
     "metadata": {},
     "output_type": "execute_result"
    }
   ],
   "source": [
    "B"
   ]
  },
  {
   "cell_type": "code",
   "execution_count": 125,
   "id": "ad0a1fa4-db4e-49a1-a42f-dca1ee247660",
   "metadata": {},
   "outputs": [],
   "source": [
    "A *= 3"
   ]
  },
  {
   "cell_type": "code",
   "execution_count": 127,
   "id": "90f2683e-ef7f-4c59-9686-ae4591c203f5",
   "metadata": {},
   "outputs": [
    {
     "data": {
      "text/plain": [
       "array([[ 3, 12,  3,  6,  9, 12, 12,  9,  3]])"
      ]
     },
     "execution_count": 127,
     "metadata": {},
     "output_type": "execute_result"
    }
   ],
   "source": [
    "A"
   ]
  },
  {
   "cell_type": "code",
   "execution_count": 126,
   "id": "704d19d2-5950-4e34-ae9d-ed5856e4345b",
   "metadata": {},
   "outputs": [
    {
     "data": {
      "text/plain": [
       "array([[ 3, 12,  3],\n",
       "       [ 6,  9, 12],\n",
       "       [12,  9,  3]])"
      ]
     },
     "execution_count": 126,
     "metadata": {},
     "output_type": "execute_result"
    }
   ],
   "source": [
    "B"
   ]
  },
  {
   "cell_type": "code",
   "execution_count": 128,
   "id": "2fca81ca-1b98-4969-934f-931ed63e14cc",
   "metadata": {},
   "outputs": [],
   "source": [
    "B = A.copy()"
   ]
  },
  {
   "cell_type": "markdown",
   "id": "a1c9a69e-01a7-4b2f-a102-8a62804b28e7",
   "metadata": {},
   "source": [
    "---\n",
    "## Matplotlib <a name='matplotlib'></a>"
   ]
  },
  {
   "cell_type": "markdown",
   "id": "1348e3ea-ae94-4875-a7da-9f66e58fdea2",
   "metadata": {},
   "source": [
    "Visualisation library for python providing static, animated and interactive visualisations. Similar to how commandline improves your workflow when things get complicated, Matplotlib can help you with complex visualisation tasks. From the official website:\n",
    "> Matplotlib makes easy things easy and hard things possible."
   ]
  },
  {
   "cell_type": "markdown",
   "id": "f3a195af-555d-4cc7-a7b2-0724bd18ff24",
   "metadata": {},
   "source": [
    "## Pyplot\n",
    "\n",
    "Pyplot is one of the API's for Matplotlib (the other being Object Oriented API) which provides a set of functions to make plots."
   ]
  },
  {
   "cell_type": "code",
   "execution_count": 129,
   "id": "6aa4763f-f5cc-4aaf-a489-258c136168aa",
   "metadata": {},
   "outputs": [],
   "source": [
    "import matplotlib.pyplot as plt\n",
    "import numpy as np"
   ]
  },
  {
   "cell_type": "code",
   "execution_count": 131,
   "id": "5c370387-61b7-4a0c-8142-d58584170cdf",
   "metadata": {},
   "outputs": [],
   "source": [
    "plt.rcParams['figure.figsize'] = [10, 7]"
   ]
  },
  {
   "cell_type": "markdown",
   "id": "5841b801-df39-49ac-b27b-f95a8e8777da",
   "metadata": {},
   "source": [
    "`matplotlib.pyplot.plot()` is one of the basic commands for making plots."
   ]
  },
  {
   "cell_type": "code",
   "execution_count": 132,
   "id": "8cadc2dc-eac8-4d59-8318-190608d5acd7",
   "metadata": {},
   "outputs": [
    {
     "data": {
      "image/png": "[encoded data removed]",
      "text/plain": [
       "<Figure size 720x504 with 1 Axes>"
      ]
     },
     "metadata": {
      "needs_background": "light"
     },
     "output_type": "display_data"
    }
   ],
   "source": [
    "plt.plot([1, 4, 3, 7, 9])\n",
    "plt.title('First Plot')\n",
    "plt.show()"
   ]
  },
  {
   "cell_type": "markdown",
   "id": "6b675dc1-9305-413d-9f19-fb886eed499e",
   "metadata": {},
   "source": [
    "Various marker styles can be specified. Available styles can be [found here](https://matplotlib.org/stable/api/_as_gen/matplotlib.pyplot.plot.html#matplotlib.pyplot.plot)."
   ]
  },
  {
   "cell_type": "code",
   "execution_count": 137,
   "id": "dc5463e2-609f-4a4f-ad58-e3a60e568e99",
   "metadata": {},
   "outputs": [
    {
     "data": {
      "image/png": "[encoded data removed]",
      "text/plain": [
       "<Figure size 720x504 with 1 Axes>"
      ]
     },
     "metadata": {
      "needs_background": "light"
     },
     "output_type": "display_data"
    }
   ],
   "source": [
    "A = np.linspace(1, 10, 100)\n",
    "plt.title(\"Some functions\")\n",
    "plt.plot(A, np.sin(A), \"r-.\", label=\"sin\")\n",
    "plt.plot(A, np.cos(A), \"b:\", label=\"cos\")\n",
    "plt.plot(A, np.log(A), \"g\", label=\"log\")\n",
    "plt.plot(A, np.tan(A)*0.01, \"k_\", label=\"scaled tan\")\n",
    "plt.legend()\n",
    "plt.show()"
   ]
  },
  {
   "cell_type": "markdown",
   "id": "af91df6d-df06-4259-b203-38f7822ac512",
   "metadata": {},
   "source": [
    "Scatter plot can be made with `matplotlib.pyplot.scatter()`"
   ]
  },
  {
   "cell_type": "code",
   "execution_count": 138,
   "id": "125ba16e-1773-4f72-98b6-6a0fa33db854",
   "metadata": {},
   "outputs": [
    {
     "data": {
      "image/png": "[encoded data removed]",
      "text/plain": [
       "<Figure size 720x504 with 1 Axes>"
      ]
     },
     "metadata": {
      "needs_background": "light"
     },
     "output_type": "display_data"
    }
   ],
   "source": [
    "A = np.random.randint(1, 100, (100, 1))\n",
    "plt.title(\"A scatter plot\")\n",
    "plt.scatter(A, np.sin(A), c='k')\n",
    "plt.show()"
   ]
  },
  {
   "cell_type": "markdown",
   "id": "3b117bac-b9b4-4469-8ce5-f8551059060d",
   "metadata": {},
   "source": [
    "---\n",
    "## Pandas <a name='pandas'></a>"
   ]
  },
  {
   "cell_type": "markdown",
   "id": "dbda130d-a63d-49bd-a99b-7ab166a52474",
   "metadata": {},
   "source": [
    "Pandas provides data-analysis tools in python, and is based upon the vectorisation power of NumPy. The data structures in Pandas, irrespective of their dimension, are labelled.\n",
    "\n",
    "The one-dimensional labelled arrays are provided by `pandas.Series` and two-dimensional labelled arrays are provided by `pandas.DataFrame`. In the case of `DataFrame`, the columns can be multiple types, and essentially analogous to spreadsheets."
   ]
  },
  {
   "cell_type": "code",
   "execution_count": 139,
   "id": "4df1c083-1465-4e50-89e6-8d598f5f1d39",
   "metadata": {},
   "outputs": [],
   "source": [
    "import numpy as np\n",
    "import pandas as pd"
   ]
  },
  {
   "cell_type": "code",
   "execution_count": 140,
   "id": "207fe2ba-afa8-45a0-8e9d-cd51a9d8d3d6",
   "metadata": {},
   "outputs": [
    {
     "data": {
      "text/plain": [
       "\u001b[1;31mInit signature:\u001b[0m\n",
       "\u001b[0mpd\u001b[0m\u001b[1;33m.\u001b[0m\u001b[0mSeries\u001b[0m\u001b[1;33m(\u001b[0m\u001b[1;33m\u001b[0m\n",
       "\u001b[1;33m\u001b[0m    \u001b[0mdata\u001b[0m\u001b[1;33m=\u001b[0m\u001b[1;32mNone\u001b[0m\u001b[1;33m,\u001b[0m\u001b[1;33m\u001b[0m\n",
       "\u001b[1;33m\u001b[0m    \u001b[0mindex\u001b[0m\u001b[1;33m=\u001b[0m\u001b[1;32mNone\u001b[0m\u001b[1;33m,\u001b[0m\u001b[1;33m\u001b[0m\n",
       "\u001b[1;33m\u001b[0m    \u001b[0mdtype\u001b[0m\u001b[1;33m=\u001b[0m\u001b[1;32mNone\u001b[0m\u001b[1;33m,\u001b[0m\u001b[1;33m\u001b[0m\n",
       "\u001b[1;33m\u001b[0m    \u001b[0mname\u001b[0m\u001b[1;33m=\u001b[0m\u001b[1;32mNone\u001b[0m\u001b[1;33m,\u001b[0m\u001b[1;33m\u001b[0m\n",
       "\u001b[1;33m\u001b[0m    \u001b[0mcopy\u001b[0m\u001b[1;33m=\u001b[0m\u001b[1;32mFalse\u001b[0m\u001b[1;33m,\u001b[0m\u001b[1;33m\u001b[0m\n",
       "\u001b[1;33m\u001b[0m    \u001b[0mfastpath\u001b[0m\u001b[1;33m=\u001b[0m\u001b[1;32mFalse\u001b[0m\u001b[1;33m,\u001b[0m\u001b[1;33m\u001b[0m\n",
       "\u001b[1;33m\u001b[0m\u001b[1;33m)\u001b[0m\u001b[1;33m\u001b[0m\u001b[1;33m\u001b[0m\u001b[0m\n",
       "\u001b[1;31mDocstring:\u001b[0m     \n",
       "One-dimensional ndarray with axis labels (including time series).\n",
       "\n",
       "Labels need not be unique but must be a hashable type. The object\n",
       "supports both integer- and label-based indexing and provides a host of\n",
       "methods for performing operations involving the index. Statistical\n",
       "methods from ndarray have been overridden to automatically exclude\n",
       "missing data (currently represented as NaN).\n",
       "\n",
       "Operations between Series (+, -, /, *, **) align values based on their\n",
       "associated index values-- they need not be the same length. The result\n",
       "index will be the sorted union of the two indexes.\n",
       "\n",
       "Parameters\n",
       "----------\n",
       "data : array-like, Iterable, dict, or scalar value\n",
       "    Contains data stored in Series. If data is a dict, argument order is\n",
       "    maintained.\n",
       "index : array-like or Index (1d)\n",
       "    Values must be hashable and have the same length as `data`.\n",
       "    Non-unique index values are allowed. Will default to\n",
       "    RangeIndex (0, 1, 2, ..., n) if not provided. If data is dict-like\n",
       "    and index is None, then the keys in the data are used as the index. If the\n",
       "    index is not None, the resulting Series is reindexed with the index values.\n",
       "dtype : str, numpy.dtype, or ExtensionDtype, optional\n",
       "    Data type for the output Series. If not specified, this will be\n",
       "    inferred from `data`.\n",
       "    See the :ref:`user guide <basics.dtypes>` for more usages.\n",
       "name : str, optional\n",
       "    The name to give to the Series.\n",
       "copy : bool, default False\n",
       "    Copy input data.\n",
       "\n",
       "Examples\n",
       "--------\n",
       "Constructing Series from a dictionary with an Index specified\n",
       "\n",
       ">>> d = {'a': 1, 'b': 2, 'c': 3}\n",
       ">>> ser = pd.Series(data=d, index=['a', 'b', 'c'])\n",
       ">>> ser\n",
       "a   1\n",
       "b   2\n",
       "c   3\n",
       "dtype: int64\n",
       "\n",
       "The keys of the dictionary match with the Index values, hence the Index\n",
       "values have no effect.\n",
       "\n",
       ">>> d = {'a': 1, 'b': 2, 'c': 3}\n",
       ">>> ser = pd.Series(data=d, index=['x', 'y', 'z'])\n",
       ">>> ser\n",
       "x   NaN\n",
       "y   NaN\n",
       "z   NaN\n",
       "dtype: float64\n",
       "\n",
       "Note that the Index is first build with the keys from the dictionary.\n",
       "After this the Series is reindexed with the given Index values, hence we\n",
       "get all NaN as a result.\n",
       "\u001b[1;31mFile:\u001b[0m           /usr/lib/python3.9/site-packages/pandas/core/series.py\n",
       "\u001b[1;31mType:\u001b[0m           type\n",
       "\u001b[1;31mSubclasses:\u001b[0m     SubclassedSeries\n"
      ]
     },
     "metadata": {},
     "output_type": "display_data"
    }
   ],
   "source": [
    "pd.Series?"
   ]
  },
  {
   "cell_type": "code",
   "execution_count": 141,
   "id": "71941a0b-7fe2-4645-b997-605a4d9d8d85",
   "metadata": {},
   "outputs": [
    {
     "data": {
      "text/plain": [
       "0     1.000000\n",
       "1     2.000000\n",
       "2          NaN\n",
       "3     3.000000\n",
       "4    12.566371\n",
       "dtype: float64"
      ]
     },
     "execution_count": 141,
     "metadata": {},
     "output_type": "execute_result"
    }
   ],
   "source": [
    "pd.Series([1, 2, None, 3, 4*np.pi])"
   ]
  },
  {
   "cell_type": "code",
   "execution_count": 142,
   "id": "a387988b-78d6-486a-8c5a-80f3de12009b",
   "metadata": {},
   "outputs": [
    {
     "data": {
      "text/plain": [
       "\u001b[1;31mInit signature:\u001b[0m\n",
       "\u001b[0mpd\u001b[0m\u001b[1;33m.\u001b[0m\u001b[0mDataFrame\u001b[0m\u001b[1;33m(\u001b[0m\u001b[1;33m\u001b[0m\n",
       "\u001b[1;33m\u001b[0m    \u001b[0mdata\u001b[0m\u001b[1;33m=\u001b[0m\u001b[1;32mNone\u001b[0m\u001b[1;33m,\u001b[0m\u001b[1;33m\u001b[0m\n",
       "\u001b[1;33m\u001b[0m    \u001b[0mindex\u001b[0m\u001b[1;33m:\u001b[0m \u001b[1;34m'Optional[Axes]'\u001b[0m \u001b[1;33m=\u001b[0m \u001b[1;32mNone\u001b[0m\u001b[1;33m,\u001b[0m\u001b[1;33m\u001b[0m\n",
       "\u001b[1;33m\u001b[0m    \u001b[0mcolumns\u001b[0m\u001b[1;33m:\u001b[0m \u001b[1;34m'Optional[Axes]'\u001b[0m \u001b[1;33m=\u001b[0m \u001b[1;32mNone\u001b[0m\u001b[1;33m,\u001b[0m\u001b[1;33m\u001b[0m\n",
       "\u001b[1;33m\u001b[0m    \u001b[0mdtype\u001b[0m\u001b[1;33m:\u001b[0m \u001b[1;34m'Optional[Dtype]'\u001b[0m \u001b[1;33m=\u001b[0m \u001b[1;32mNone\u001b[0m\u001b[1;33m,\u001b[0m\u001b[1;33m\u001b[0m\n",
       "\u001b[1;33m\u001b[0m    \u001b[0mcopy\u001b[0m\u001b[1;33m:\u001b[0m \u001b[1;34m'bool'\u001b[0m \u001b[1;33m=\u001b[0m \u001b[1;32mFalse\u001b[0m\u001b[1;33m,\u001b[0m\u001b[1;33m\u001b[0m\n",
       "\u001b[1;33m\u001b[0m\u001b[1;33m)\u001b[0m\u001b[1;33m\u001b[0m\u001b[1;33m\u001b[0m\u001b[0m\n",
       "\u001b[1;31mDocstring:\u001b[0m     \n",
       "Two-dimensional, size-mutable, potentially heterogeneous tabular data.\n",
       "\n",
       "Data structure also contains labeled axes (rows and columns).\n",
       "Arithmetic operations align on both row and column labels. Can be\n",
       "thought of as a dict-like container for Series objects. The primary\n",
       "pandas data structure.\n",
       "\n",
       "Parameters\n",
       "----------\n",
       "data : ndarray (structured or homogeneous), Iterable, dict, or DataFrame\n",
       "    Dict can contain Series, arrays, constants, dataclass or list-like objects. If\n",
       "    data is a dict, column order follows insertion-order.\n",
       "\n",
       "    .. versionchanged:: 0.25.0\n",
       "       If data is a list of dicts, column order follows insertion-order.\n",
       "\n",
       "index : Index or array-like\n",
       "    Index to use for resulting frame. Will default to RangeIndex if\n",
       "    no indexing information part of input data and no index provided.\n",
       "columns : Index or array-like\n",
       "    Column labels to use for resulting frame. Will default to\n",
       "    RangeIndex (0, 1, 2, ..., n) if no column labels are provided.\n",
       "dtype : dtype, default None\n",
       "    Data type to force. Only a single dtype is allowed. If None, infer.\n",
       "copy : bool, default False\n",
       "    Copy data from inputs. Only affects DataFrame / 2d ndarray input.\n",
       "\n",
       "See Also\n",
       "--------\n",
       "DataFrame.from_records : Constructor from tuples, also record arrays.\n",
       "DataFrame.from_dict : From dicts of Series, arrays, or dicts.\n",
       "read_csv : Read a comma-separated values (csv) file into DataFrame.\n",
       "read_table : Read general delimited file into DataFrame.\n",
       "read_clipboard : Read text from clipboard into DataFrame.\n",
       "\n",
       "Examples\n",
       "--------\n",
       "Constructing DataFrame from a dictionary.\n",
       "\n",
       ">>> d = {'col1': [1, 2], 'col2': [3, 4]}\n",
       ">>> df = pd.DataFrame(data=d)\n",
       ">>> df\n",
       "   col1  col2\n",
       "0     1     3\n",
       "1     2     4\n",
       "\n",
       "Notice that the inferred dtype is int64.\n",
       "\n",
       ">>> df.dtypes\n",
       "col1    int64\n",
       "col2    int64\n",
       "dtype: object\n",
       "\n",
       "To enforce a single dtype:\n",
       "\n",
       ">>> df = pd.DataFrame(data=d, dtype=np.int8)\n",
       ">>> df.dtypes\n",
       "col1    int8\n",
       "col2    int8\n",
       "dtype: object\n",
       "\n",
       "Constructing DataFrame from numpy ndarray:\n",
       "\n",
       ">>> df2 = pd.DataFrame(np.array([[1, 2, 3], [4, 5, 6], [7, 8, 9]]),\n",
       "...                    columns=['a', 'b', 'c'])\n",
       ">>> df2\n",
       "   a  b  c\n",
       "0  1  2  3\n",
       "1  4  5  6\n",
       "2  7  8  9\n",
       "\n",
       "Constructing DataFrame from dataclass:\n",
       "\n",
       ">>> from dataclasses import make_dataclass\n",
       ">>> Point = make_dataclass(\"Point\", [(\"x\", int), (\"y\", int)])\n",
       ">>> pd.DataFrame([Point(0, 0), Point(0, 3), Point(2, 3)])\n",
       "    x  y\n",
       "0  0  0\n",
       "1  0  3\n",
       "2  2  3\n",
       "\u001b[1;31mFile:\u001b[0m           /usr/lib/python3.9/site-packages/pandas/core/frame.py\n",
       "\u001b[1;31mType:\u001b[0m           type\n",
       "\u001b[1;31mSubclasses:\u001b[0m     SubclassedDataFrame\n"
      ]
     },
     "metadata": {},
     "output_type": "display_data"
    }
   ],
   "source": [
    "pd.DataFrame?"
   ]
  },
  {
   "cell_type": "code",
   "execution_count": 143,
   "id": "a288e379-853d-4f1a-8626-06038a0aa1b4",
   "metadata": {},
   "outputs": [
    {
     "data": {
      "text/html": [
       "<div>\n",
       "<style scoped>\n",
       "    .dataframe tbody tr th:only-of-type {\n",
       "        vertical-align: middle;\n",
       "    }\n",
       "\n",
       "    .dataframe tbody tr th {\n",
       "        vertical-align: top;\n",
       "    }\n",
       "\n",
       "    .dataframe thead th {\n",
       "        text-align: right;\n",
       "    }\n",
       "</style>\n",
       "<table border=\"1\" class=\"dataframe\">\n",
       "  <thead>\n",
       "    <tr style=\"text-align: right;\">\n",
       "      <th></th>\n",
       "      <th>0</th>\n",
       "      <th>1</th>\n",
       "      <th>2</th>\n",
       "      <th>3</th>\n",
       "      <th>4</th>\n",
       "      <th>5</th>\n",
       "    </tr>\n",
       "  </thead>\n",
       "  <tbody>\n",
       "    <tr>\n",
       "      <th>0</th>\n",
       "      <td>0.173913</td>\n",
       "      <td>0.570541</td>\n",
       "      <td>0.301712</td>\n",
       "      <td>0.496571</td>\n",
       "      <td>0.032350</td>\n",
       "      <td>0.649656</td>\n",
       "    </tr>\n",
       "    <tr>\n",
       "      <th>1</th>\n",
       "      <td>0.143061</td>\n",
       "      <td>0.176148</td>\n",
       "      <td>0.476613</td>\n",
       "      <td>0.837065</td>\n",
       "      <td>0.617521</td>\n",
       "      <td>0.457079</td>\n",
       "    </tr>\n",
       "    <tr>\n",
       "      <th>2</th>\n",
       "      <td>0.358869</td>\n",
       "      <td>0.161064</td>\n",
       "      <td>0.001969</td>\n",
       "      <td>0.572921</td>\n",
       "      <td>0.167624</td>\n",
       "      <td>0.975880</td>\n",
       "    </tr>\n",
       "    <tr>\n",
       "      <th>3</th>\n",
       "      <td>0.000384</td>\n",
       "      <td>0.934714</td>\n",
       "      <td>0.468213</td>\n",
       "      <td>0.213077</td>\n",
       "      <td>0.783008</td>\n",
       "      <td>0.874611</td>\n",
       "    </tr>\n",
       "  </tbody>\n",
       "</table>\n",
       "</div>"
      ],
      "text/plain": [
       "          0         1         2         3         4         5\n",
       "0  0.173913  0.570541  0.301712  0.496571  0.032350  0.649656\n",
       "1  0.143061  0.176148  0.476613  0.837065  0.617521  0.457079\n",
       "2  0.358869  0.161064  0.001969  0.572921  0.167624  0.975880\n",
       "3  0.000384  0.934714  0.468213  0.213077  0.783008  0.874611"
      ]
     },
     "execution_count": 143,
     "metadata": {},
     "output_type": "execute_result"
    }
   ],
   "source": [
    "pd.DataFrame(np.random.random((4, 6)))"
   ]
  },
  {
   "cell_type": "code",
   "execution_count": 144,
   "id": "d9609d30-9a27-47d2-801c-5f6875e8e6d2",
   "metadata": {},
   "outputs": [],
   "source": [
    "indices = ['eenie', 'meenie', 'miny', 'mo']\n",
    "A = pd.DataFrame(np.random.random((4, 6)), index=indices, columns=list('ABCDEF'))"
   ]
  },
  {
   "cell_type": "code",
   "execution_count": 145,
   "id": "a5f08f2b-566f-4b5f-86b3-a6f489921ec7",
   "metadata": {},
   "outputs": [
    {
     "data": {
      "text/html": [
       "<div>\n",
       "<style scoped>\n",
       "    .dataframe tbody tr th:only-of-type {\n",
       "        vertical-align: middle;\n",
       "    }\n",
       "\n",
       "    .dataframe tbody tr th {\n",
       "        vertical-align: top;\n",
       "    }\n",
       "\n",
       "    .dataframe thead th {\n",
       "        text-align: right;\n",
       "    }\n",
       "</style>\n",
       "<table border=\"1\" class=\"dataframe\">\n",
       "  <thead>\n",
       "    <tr style=\"text-align: right;\">\n",
       "      <th></th>\n",
       "      <th>A</th>\n",
       "      <th>B</th>\n",
       "      <th>C</th>\n",
       "      <th>D</th>\n",
       "      <th>E</th>\n",
       "      <th>F</th>\n",
       "    </tr>\n",
       "  </thead>\n",
       "  <tbody>\n",
       "    <tr>\n",
       "      <th>eenie</th>\n",
       "      <td>0.794666</td>\n",
       "      <td>0.985841</td>\n",
       "      <td>0.992916</td>\n",
       "      <td>0.338325</td>\n",
       "      <td>0.501070</td>\n",
       "      <td>0.574967</td>\n",
       "    </tr>\n",
       "    <tr>\n",
       "      <th>meenie</th>\n",
       "      <td>0.192462</td>\n",
       "      <td>0.100004</td>\n",
       "      <td>0.385548</td>\n",
       "      <td>0.013255</td>\n",
       "      <td>0.328555</td>\n",
       "      <td>0.845581</td>\n",
       "    </tr>\n",
       "    <tr>\n",
       "      <th>miny</th>\n",
       "      <td>0.399139</td>\n",
       "      <td>0.054665</td>\n",
       "      <td>0.787709</td>\n",
       "      <td>0.756613</td>\n",
       "      <td>0.178197</td>\n",
       "      <td>0.084715</td>\n",
       "    </tr>\n",
       "    <tr>\n",
       "      <th>mo</th>\n",
       "      <td>0.252368</td>\n",
       "      <td>0.952033</td>\n",
       "      <td>0.589825</td>\n",
       "      <td>0.700031</td>\n",
       "      <td>0.412160</td>\n",
       "      <td>0.624058</td>\n",
       "    </tr>\n",
       "  </tbody>\n",
       "</table>\n",
       "</div>"
      ],
      "text/plain": [
       "               A         B         C         D         E         F\n",
       "eenie   0.794666  0.985841  0.992916  0.338325  0.501070  0.574967\n",
       "meenie  0.192462  0.100004  0.385548  0.013255  0.328555  0.845581\n",
       "miny    0.399139  0.054665  0.787709  0.756613  0.178197  0.084715\n",
       "mo      0.252368  0.952033  0.589825  0.700031  0.412160  0.624058"
      ]
     },
     "execution_count": 145,
     "metadata": {},
     "output_type": "execute_result"
    }
   ],
   "source": [
    "A"
   ]
  },
  {
   "cell_type": "markdown",
   "id": "5cb4868f-4da4-4448-8ac3-35f17b2400ab",
   "metadata": {},
   "source": [
    "#### Viewing data\n",
    "\n",
    "Similar to `head` and `tail` commands in linux commandline, there are `head` and `tail` methods to view the first\n",
    "few and last few rows of a DataFrame"
   ]
  },
  {
   "cell_type": "code",
   "execution_count": 146,
   "id": "01c68b3d-a6eb-4dde-8f42-0649da8ee4f1",
   "metadata": {},
   "outputs": [
    {
     "data": {
      "text/html": [
       "<div>\n",
       "<style scoped>\n",
       "    .dataframe tbody tr th:only-of-type {\n",
       "        vertical-align: middle;\n",
       "    }\n",
       "\n",
       "    .dataframe tbody tr th {\n",
       "        vertical-align: top;\n",
       "    }\n",
       "\n",
       "    .dataframe thead th {\n",
       "        text-align: right;\n",
       "    }\n",
       "</style>\n",
       "<table border=\"1\" class=\"dataframe\">\n",
       "  <thead>\n",
       "    <tr style=\"text-align: right;\">\n",
       "      <th></th>\n",
       "      <th>A</th>\n",
       "      <th>B</th>\n",
       "      <th>C</th>\n",
       "      <th>D</th>\n",
       "      <th>E</th>\n",
       "      <th>F</th>\n",
       "    </tr>\n",
       "  </thead>\n",
       "  <tbody>\n",
       "    <tr>\n",
       "      <th>eenie</th>\n",
       "      <td>0.794666</td>\n",
       "      <td>0.985841</td>\n",
       "      <td>0.992916</td>\n",
       "      <td>0.338325</td>\n",
       "      <td>0.501070</td>\n",
       "      <td>0.574967</td>\n",
       "    </tr>\n",
       "    <tr>\n",
       "      <th>meenie</th>\n",
       "      <td>0.192462</td>\n",
       "      <td>0.100004</td>\n",
       "      <td>0.385548</td>\n",
       "      <td>0.013255</td>\n",
       "      <td>0.328555</td>\n",
       "      <td>0.845581</td>\n",
       "    </tr>\n",
       "  </tbody>\n",
       "</table>\n",
       "</div>"
      ],
      "text/plain": [
       "               A         B         C         D         E         F\n",
       "eenie   0.794666  0.985841  0.992916  0.338325  0.501070  0.574967\n",
       "meenie  0.192462  0.100004  0.385548  0.013255  0.328555  0.845581"
      ]
     },
     "execution_count": 146,
     "metadata": {},
     "output_type": "execute_result"
    }
   ],
   "source": [
    "A.head(2)"
   ]
  },
  {
   "cell_type": "code",
   "execution_count": 147,
   "id": "c22eb886-bf42-4cfa-a5fc-cab525453f5b",
   "metadata": {},
   "outputs": [
    {
     "data": {
      "text/html": [
       "<div>\n",
       "<style scoped>\n",
       "    .dataframe tbody tr th:only-of-type {\n",
       "        vertical-align: middle;\n",
       "    }\n",
       "\n",
       "    .dataframe tbody tr th {\n",
       "        vertical-align: top;\n",
       "    }\n",
       "\n",
       "    .dataframe thead th {\n",
       "        text-align: right;\n",
       "    }\n",
       "</style>\n",
       "<table border=\"1\" class=\"dataframe\">\n",
       "  <thead>\n",
       "    <tr style=\"text-align: right;\">\n",
       "      <th></th>\n",
       "      <th>A</th>\n",
       "      <th>B</th>\n",
       "      <th>C</th>\n",
       "      <th>D</th>\n",
       "      <th>E</th>\n",
       "      <th>F</th>\n",
       "    </tr>\n",
       "  </thead>\n",
       "  <tbody>\n",
       "    <tr>\n",
       "      <th>meenie</th>\n",
       "      <td>0.192462</td>\n",
       "      <td>0.100004</td>\n",
       "      <td>0.385548</td>\n",
       "      <td>0.013255</td>\n",
       "      <td>0.328555</td>\n",
       "      <td>0.845581</td>\n",
       "    </tr>\n",
       "    <tr>\n",
       "      <th>miny</th>\n",
       "      <td>0.399139</td>\n",
       "      <td>0.054665</td>\n",
       "      <td>0.787709</td>\n",
       "      <td>0.756613</td>\n",
       "      <td>0.178197</td>\n",
       "      <td>0.084715</td>\n",
       "    </tr>\n",
       "    <tr>\n",
       "      <th>mo</th>\n",
       "      <td>0.252368</td>\n",
       "      <td>0.952033</td>\n",
       "      <td>0.589825</td>\n",
       "      <td>0.700031</td>\n",
       "      <td>0.412160</td>\n",
       "      <td>0.624058</td>\n",
       "    </tr>\n",
       "  </tbody>\n",
       "</table>\n",
       "</div>"
      ],
      "text/plain": [
       "               A         B         C         D         E         F\n",
       "meenie  0.192462  0.100004  0.385548  0.013255  0.328555  0.845581\n",
       "miny    0.399139  0.054665  0.787709  0.756613  0.178197  0.084715\n",
       "mo      0.252368  0.952033  0.589825  0.700031  0.412160  0.624058"
      ]
     },
     "execution_count": 147,
     "metadata": {},
     "output_type": "execute_result"
    }
   ],
   "source": [
    "A.tail(3)"
   ]
  },
  {
   "cell_type": "code",
   "execution_count": 148,
   "id": "821d6248-3382-4fd7-8b71-c5d5520a5715",
   "metadata": {},
   "outputs": [
    {
     "data": {
      "text/plain": [
       "Index(['A', 'B', 'C', 'D', 'E', 'F'], dtype='object')"
      ]
     },
     "execution_count": 148,
     "metadata": {},
     "output_type": "execute_result"
    }
   ],
   "source": [
    "A.columns"
   ]
  },
  {
   "cell_type": "code",
   "execution_count": 149,
   "id": "893039f9-3a1b-402d-b8b3-5e13ca67513c",
   "metadata": {},
   "outputs": [
    {
     "data": {
      "text/plain": [
       "Index(['eenie', 'meenie', 'miny', 'mo'], dtype='object')"
      ]
     },
     "execution_count": 149,
     "metadata": {},
     "output_type": "execute_result"
    }
   ],
   "source": [
    "A.index"
   ]
  },
  {
   "cell_type": "code",
   "execution_count": 150,
   "id": "d45c6bf3-4a36-46dc-b465-bf5a4f8d22e0",
   "metadata": {},
   "outputs": [
    {
     "data": {
      "text/html": [
       "<div>\n",
       "<style scoped>\n",
       "    .dataframe tbody tr th:only-of-type {\n",
       "        vertical-align: middle;\n",
       "    }\n",
       "\n",
       "    .dataframe tbody tr th {\n",
       "        vertical-align: top;\n",
       "    }\n",
       "\n",
       "    .dataframe thead th {\n",
       "        text-align: right;\n",
       "    }\n",
       "</style>\n",
       "<table border=\"1\" class=\"dataframe\">\n",
       "  <thead>\n",
       "    <tr style=\"text-align: right;\">\n",
       "      <th></th>\n",
       "      <th>A</th>\n",
       "      <th>B</th>\n",
       "      <th>C</th>\n",
       "      <th>D</th>\n",
       "      <th>E</th>\n",
       "      <th>F</th>\n",
       "    </tr>\n",
       "  </thead>\n",
       "  <tbody>\n",
       "    <tr>\n",
       "      <th>count</th>\n",
       "      <td>4.000000</td>\n",
       "      <td>4.000000</td>\n",
       "      <td>4.000000</td>\n",
       "      <td>4.000000</td>\n",
       "      <td>4.000000</td>\n",
       "      <td>4.000000</td>\n",
       "    </tr>\n",
       "    <tr>\n",
       "      <th>mean</th>\n",
       "      <td>0.409659</td>\n",
       "      <td>0.523136</td>\n",
       "      <td>0.689000</td>\n",
       "      <td>0.452056</td>\n",
       "      <td>0.354996</td>\n",
       "      <td>0.532330</td>\n",
       "    </tr>\n",
       "    <tr>\n",
       "      <th>std</th>\n",
       "      <td>0.270959</td>\n",
       "      <td>0.515285</td>\n",
       "      <td>0.260785</td>\n",
       "      <td>0.346279</td>\n",
       "      <td>0.137311</td>\n",
       "      <td>0.320789</td>\n",
       "    </tr>\n",
       "    <tr>\n",
       "      <th>min</th>\n",
       "      <td>0.192462</td>\n",
       "      <td>0.054665</td>\n",
       "      <td>0.385548</td>\n",
       "      <td>0.013255</td>\n",
       "      <td>0.178197</td>\n",
       "      <td>0.084715</td>\n",
       "    </tr>\n",
       "    <tr>\n",
       "      <th>25%</th>\n",
       "      <td>0.237391</td>\n",
       "      <td>0.088669</td>\n",
       "      <td>0.538756</td>\n",
       "      <td>0.257058</td>\n",
       "      <td>0.290965</td>\n",
       "      <td>0.452404</td>\n",
       "    </tr>\n",
       "    <tr>\n",
       "      <th>50%</th>\n",
       "      <td>0.325754</td>\n",
       "      <td>0.526019</td>\n",
       "      <td>0.688767</td>\n",
       "      <td>0.519178</td>\n",
       "      <td>0.370358</td>\n",
       "      <td>0.599512</td>\n",
       "    </tr>\n",
       "    <tr>\n",
       "      <th>75%</th>\n",
       "      <td>0.498021</td>\n",
       "      <td>0.960485</td>\n",
       "      <td>0.839011</td>\n",
       "      <td>0.714176</td>\n",
       "      <td>0.434388</td>\n",
       "      <td>0.679439</td>\n",
       "    </tr>\n",
       "    <tr>\n",
       "      <th>max</th>\n",
       "      <td>0.794666</td>\n",
       "      <td>0.985841</td>\n",
       "      <td>0.992916</td>\n",
       "      <td>0.756613</td>\n",
       "      <td>0.501070</td>\n",
       "      <td>0.845581</td>\n",
       "    </tr>\n",
       "  </tbody>\n",
       "</table>\n",
       "</div>"
      ],
      "text/plain": [
       "              A         B         C         D         E         F\n",
       "count  4.000000  4.000000  4.000000  4.000000  4.000000  4.000000\n",
       "mean   0.409659  0.523136  0.689000  0.452056  0.354996  0.532330\n",
       "std    0.270959  0.515285  0.260785  0.346279  0.137311  0.320789\n",
       "min    0.192462  0.054665  0.385548  0.013255  0.178197  0.084715\n",
       "25%    0.237391  0.088669  0.538756  0.257058  0.290965  0.452404\n",
       "50%    0.325754  0.526019  0.688767  0.519178  0.370358  0.599512\n",
       "75%    0.498021  0.960485  0.839011  0.714176  0.434388  0.679439\n",
       "max    0.794666  0.985841  0.992916  0.756613  0.501070  0.845581"
      ]
     },
     "execution_count": 150,
     "metadata": {},
     "output_type": "execute_result"
    }
   ],
   "source": [
    "A.describe()\n",
    "# quick statistics"
   ]
  },
  {
   "cell_type": "markdown",
   "id": "48ead73b-212d-48dc-b8bd-b4f4acccfe7e",
   "metadata": {},
   "source": [
    "#### Slicing"
   ]
  },
  {
   "cell_type": "code",
   "execution_count": 151,
   "id": "42abc92a-7dfb-4c27-99ef-f0fdcba2256a",
   "metadata": {},
   "outputs": [
    {
     "data": {
      "text/plain": [
       "eenie     0.794666\n",
       "meenie    0.192462\n",
       "miny      0.399139\n",
       "mo        0.252368\n",
       "Name: A, dtype: float64"
      ]
     },
     "execution_count": 151,
     "metadata": {},
     "output_type": "execute_result"
    }
   ],
   "source": [
    "A['A']\n",
    "# accessing columns"
   ]
  },
  {
   "cell_type": "code",
   "execution_count": 152,
   "id": "453017e4-d3ad-4e1b-8665-b3f4656885f8",
   "metadata": {},
   "outputs": [
    {
     "data": {
      "text/plain": [
       "A    0.252368\n",
       "B    0.952033\n",
       "C    0.589825\n",
       "D    0.700031\n",
       "E    0.412160\n",
       "F    0.624058\n",
       "Name: mo, dtype: float64"
      ]
     },
     "execution_count": 152,
     "metadata": {},
     "output_type": "execute_result"
    }
   ],
   "source": [
    "A.loc['mo']\n",
    "# accessing rows"
   ]
  },
  {
   "cell_type": "code",
   "execution_count": 153,
   "id": "f2f3c908-f285-451b-be3a-034686cb430c",
   "metadata": {},
   "outputs": [
    {
     "data": {
      "text/plain": [
       "A    0.794666\n",
       "B    0.985841\n",
       "C    0.992916\n",
       "D    0.338325\n",
       "E    0.501070\n",
       "F    0.574967\n",
       "Name: eenie, dtype: float64"
      ]
     },
     "execution_count": 153,
     "metadata": {},
     "output_type": "execute_result"
    }
   ],
   "source": [
    "A.iloc[0]\n",
    "# accessing rows using index"
   ]
  },
  {
   "cell_type": "markdown",
   "id": "dce5ab54-11dd-41a4-a593-9ee062a61145",
   "metadata": {},
   "source": [
    "#### Boolean Filtering"
   ]
  },
  {
   "cell_type": "code",
   "execution_count": 154,
   "id": "da01320b-ec5c-4ff6-ae1a-c37c58eacf05",
   "metadata": {},
   "outputs": [
    {
     "data": {
      "text/html": [
       "<div>\n",
       "<style scoped>\n",
       "    .dataframe tbody tr th:only-of-type {\n",
       "        vertical-align: middle;\n",
       "    }\n",
       "\n",
       "    .dataframe tbody tr th {\n",
       "        vertical-align: top;\n",
       "    }\n",
       "\n",
       "    .dataframe thead th {\n",
       "        text-align: right;\n",
       "    }\n",
       "</style>\n",
       "<table border=\"1\" class=\"dataframe\">\n",
       "  <thead>\n",
       "    <tr style=\"text-align: right;\">\n",
       "      <th></th>\n",
       "      <th>A</th>\n",
       "      <th>B</th>\n",
       "      <th>C</th>\n",
       "      <th>D</th>\n",
       "      <th>E</th>\n",
       "      <th>F</th>\n",
       "    </tr>\n",
       "  </thead>\n",
       "  <tbody>\n",
       "    <tr>\n",
       "      <th>eenie</th>\n",
       "      <td>0.794666</td>\n",
       "      <td>0.985841</td>\n",
       "      <td>0.992916</td>\n",
       "      <td>NaN</td>\n",
       "      <td>0.50107</td>\n",
       "      <td>0.574967</td>\n",
       "    </tr>\n",
       "    <tr>\n",
       "      <th>meenie</th>\n",
       "      <td>NaN</td>\n",
       "      <td>NaN</td>\n",
       "      <td>NaN</td>\n",
       "      <td>NaN</td>\n",
       "      <td>NaN</td>\n",
       "      <td>0.845581</td>\n",
       "    </tr>\n",
       "    <tr>\n",
       "      <th>miny</th>\n",
       "      <td>NaN</td>\n",
       "      <td>NaN</td>\n",
       "      <td>0.787709</td>\n",
       "      <td>0.756613</td>\n",
       "      <td>NaN</td>\n",
       "      <td>NaN</td>\n",
       "    </tr>\n",
       "    <tr>\n",
       "      <th>mo</th>\n",
       "      <td>NaN</td>\n",
       "      <td>0.952033</td>\n",
       "      <td>0.589825</td>\n",
       "      <td>0.700031</td>\n",
       "      <td>NaN</td>\n",
       "      <td>0.624058</td>\n",
       "    </tr>\n",
       "  </tbody>\n",
       "</table>\n",
       "</div>"
      ],
      "text/plain": [
       "               A         B         C         D        E         F\n",
       "eenie   0.794666  0.985841  0.992916       NaN  0.50107  0.574967\n",
       "meenie       NaN       NaN       NaN       NaN      NaN  0.845581\n",
       "miny         NaN       NaN  0.787709  0.756613      NaN       NaN\n",
       "mo           NaN  0.952033  0.589825  0.700031      NaN  0.624058"
      ]
     },
     "execution_count": 154,
     "metadata": {},
     "output_type": "execute_result"
    }
   ],
   "source": [
    "A[A > 0.5]"
   ]
  },
  {
   "cell_type": "code",
   "execution_count": 155,
   "id": "398cd5e1-c116-4bb0-bd07-a1b7a9106b9e",
   "metadata": {},
   "outputs": [
    {
     "data": {
      "text/html": [
       "<div>\n",
       "<style scoped>\n",
       "    .dataframe tbody tr th:only-of-type {\n",
       "        vertical-align: middle;\n",
       "    }\n",
       "\n",
       "    .dataframe tbody tr th {\n",
       "        vertical-align: top;\n",
       "    }\n",
       "\n",
       "    .dataframe thead th {\n",
       "        text-align: right;\n",
       "    }\n",
       "</style>\n",
       "<table border=\"1\" class=\"dataframe\">\n",
       "  <thead>\n",
       "    <tr style=\"text-align: right;\">\n",
       "      <th></th>\n",
       "      <th>A</th>\n",
       "      <th>B</th>\n",
       "      <th>C</th>\n",
       "      <th>D</th>\n",
       "      <th>E</th>\n",
       "      <th>F</th>\n",
       "    </tr>\n",
       "  </thead>\n",
       "  <tbody>\n",
       "    <tr>\n",
       "      <th>eenie</th>\n",
       "      <td>NaN</td>\n",
       "      <td>NaN</td>\n",
       "      <td>NaN</td>\n",
       "      <td>0.338325</td>\n",
       "      <td>NaN</td>\n",
       "      <td>NaN</td>\n",
       "    </tr>\n",
       "    <tr>\n",
       "      <th>meenie</th>\n",
       "      <td>0.192462</td>\n",
       "      <td>0.100004</td>\n",
       "      <td>0.385548</td>\n",
       "      <td>0.013255</td>\n",
       "      <td>0.328555</td>\n",
       "      <td>NaN</td>\n",
       "    </tr>\n",
       "    <tr>\n",
       "      <th>miny</th>\n",
       "      <td>0.399139</td>\n",
       "      <td>0.054665</td>\n",
       "      <td>NaN</td>\n",
       "      <td>NaN</td>\n",
       "      <td>0.178197</td>\n",
       "      <td>0.084715</td>\n",
       "    </tr>\n",
       "    <tr>\n",
       "      <th>mo</th>\n",
       "      <td>0.252368</td>\n",
       "      <td>NaN</td>\n",
       "      <td>NaN</td>\n",
       "      <td>NaN</td>\n",
       "      <td>0.412160</td>\n",
       "      <td>NaN</td>\n",
       "    </tr>\n",
       "  </tbody>\n",
       "</table>\n",
       "</div>"
      ],
      "text/plain": [
       "               A         B         C         D         E         F\n",
       "eenie        NaN       NaN       NaN  0.338325       NaN       NaN\n",
       "meenie  0.192462  0.100004  0.385548  0.013255  0.328555       NaN\n",
       "miny    0.399139  0.054665       NaN       NaN  0.178197  0.084715\n",
       "mo      0.252368       NaN       NaN       NaN  0.412160       NaN"
      ]
     },
     "execution_count": 155,
     "metadata": {},
     "output_type": "execute_result"
    }
   ],
   "source": [
    "A[A < 0.5]"
   ]
  },
  {
   "cell_type": "markdown",
   "id": "995873c9-a04e-4537-89f3-cd15f922a0c1",
   "metadata": {},
   "source": [
    "#### File Handling\n",
    "\n",
    "Data from a CSV (.csv) file can be loaded using\n",
    "```python\n",
    "pandas.read_csv(file)\n",
    "```\n",
    "DataFrame object can be dumped to a CSV file using\n",
    "```python\n",
    "pandas.to_csv(file)\n",
    "```"
   ]
  }
 ],
 "metadata": {
  "kernelspec": {
   "display_name": "Python 3",
   "language": "python",
   "name": "python3"
  },
  "language_info": {
   "codemirror_mode": {
    "name": "ipython",
    "version": 3
   },
   "file_extension": ".py",
   "mimetype": "text/x-python",
   "name": "python",
   "nbconvert_exporter": "python",
   "pygments_lexer": "ipython3",
   "version": "3.9.6"
  }
 },
 "nbformat": 4,
 "nbformat_minor": 5
}
