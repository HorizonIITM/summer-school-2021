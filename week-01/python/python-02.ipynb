{
 "cells": [
  {
   "cell_type": "markdown",
   "id": "6f7051d0-fa37-4e1c-9c95-017089985361",
   "metadata": {},
   "source": [
    "# Module 1.2 - **Python Part 2**\n",
    "## _Ashish Shroti_ and _Rajeshkumar K_"
   ]
  },
  {
   "cell_type": "markdown",
   "id": "701b1a37-b6e8-4f75-824e-91b2b4815e32",
   "metadata": {},
   "source": [
    "---\n",
    "# Table of Contents\n",
    "7. [File-Handling](#file-handling)\n",
    "8. [Object Oriented Programming](#object-oriented-programming)\n",
    "9. [Modules](#modules)\n",
    "10. [NumPy](#numpy)\n",
    "11. [Matplotlib](#matplotlib)\n",
    "12. [Pandas](#pandas)"
   ]
  },
  {
   "cell_type": "markdown",
   "id": "1bf40d16-ffa6-488a-bbef-0256388cd954",
   "metadata": {},
   "source": [
    "---\n",
    "## File Handling <a name='file-handling'></a>"
   ]
  },
  {
   "cell_type": "markdown",
   "id": "02305a5a-41e5-4a0b-960f-ef6dc744460e",
   "metadata": {},
   "source": [
    "---\n",
    "## Object Oriented Programming <a name='object-oriented-programming'></a>"
   ]
  },
  {
   "cell_type": "markdown",
   "id": "fca9d2ba-510e-4584-b8fd-1552268fc578",
   "metadata": {},
   "source": [
    "---\n",
    "## Modules <a name='modules'></a>"
   ]
  },
  {
   "cell_type": "markdown",
   "id": "99caf04b-08d7-47e5-9a41-df55f1a81247",
   "metadata": {},
   "source": [
    "---\n",
    "## NumPy <a name='numpy'></a>"
   ]
  },
  {
   "cell_type": "markdown",
   "id": "a1c9a69e-01a7-4b2f-a102-8a62804b28e7",
   "metadata": {},
   "source": [
    "---\n",
    "## Matplotlib <a name='matplotlib'></a>"
   ]
  },
  {
   "cell_type": "markdown",
   "id": "add95785-c5ef-4913-99d4-465b4d546e0a",
   "metadata": {},
   "source": [
    "---\n",
    "## Pandas <a name='pandas'></a>"
   ]
  }
 ],
 "metadata": {
  "kernelspec": {
   "display_name": "Python 3",
   "language": "python",
   "name": "python3"
  },
  "language_info": {
   "codemirror_mode": {
    "name": "ipython",
    "version": 3
   },
   "file_extension": ".py",
   "mimetype": "text/x-python",
   "name": "python",
   "nbconvert_exporter": "python",
   "pygments_lexer": "ipython3",
   "version": "3.9.6"
  }
 },
 "nbformat": 4,
 "nbformat_minor": 5
}
