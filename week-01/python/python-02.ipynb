{
 "cells": [
  {
   "cell_type": "markdown",
   "id": "6f7051d0-fa37-4e1c-9c95-017089985361",
   "metadata": {},
   "source": [
    "# Module 1.2 - **Python Part 2**\n",
    "## _Ashish Shroti_ and _Rajeshkumar K_"
   ]
  },
  {
   "cell_type": "markdown",
   "id": "701b1a37-b6e8-4f75-824e-91b2b4815e32",
   "metadata": {},
   "source": [
    "---\n",
    "# Table of Contents\n",
    "7. [File-Handling](#file-handling)\n",
    "8. [Object Oriented Programming](#object-oriented-programming)\n",
    "9. [Modules](#modules)\n",
    "10. [NumPy](#numpy)\n",
    "11. [Matplotlib](#matplotlib)\n",
    "12. [Pandas](#pandas)"
   ]
  },
  {
   "cell_type": "markdown",
   "id": "1bf40d16-ffa6-488a-bbef-0256388cd954",
   "metadata": {},
   "source": [
    "---\n",
    "## File Handling <a name='file-handling'></a>"
   ]
  },
  {
   "cell_type": "markdown",
   "id": "0e7c810e-179b-4c64-9117-c74b38abf4e6",
   "metadata": {},
   "source": [
    "Function for opening files: `open()`\n",
    "Syntax:\n",
    "```python\n",
    "open(filename, mode)\n",
    "```\n",
    "Returns a buffered stream, similar to a generator/iterable"
   ]
  },
  {
   "cell_type": "code",
   "execution_count": 48,
   "id": "0c728ff3-0bcb-4ea7-bb12-7a4132c63db8",
   "metadata": {},
   "outputs": [],
   "source": [
    "tcm = open('./data/the-communist-manifesto.txt','r')"
   ]
  },
  {
   "cell_type": "code",
   "execution_count": 40,
   "id": "0de762a4-b916-4ea6-a15f-2fa7981cf006",
   "metadata": {},
   "outputs": [
    {
     "name": "stdout",
     "output_type": "stream",
     "text": [
      "MANIFESTO OF THE COMMUNIST PARTY\n",
      "\n"
     ]
    }
   ],
   "source": [
    "print(tcm.readline())"
   ]
  },
  {
   "cell_type": "code",
   "execution_count": null,
   "id": "52c5a70f-3f67-48b5-9b0b-d96181ab5b98",
   "metadata": {},
   "outputs": [],
   "source": []
  },
  {
   "cell_type": "code",
   "execution_count": null,
   "id": "4796432b-2b4e-49fd-8ee2-b60c7b3b1a91",
   "metadata": {},
   "outputs": [],
   "source": []
  },
  {
   "cell_type": "code",
   "execution_count": null,
   "id": "c6dceac9-242c-44c7-a458-9ed85c2ba75b",
   "metadata": {},
   "outputs": [],
   "source": []
  },
  {
   "cell_type": "markdown",
   "id": "02305a5a-41e5-4a0b-960f-ef6dc744460e",
   "metadata": {},
   "source": [
    "---\n",
    "## Object Oriented Programming <a name='object-oriented-programming'></a>"
   ]
  },
  {
   "cell_type": "markdown",
   "id": "fca9d2ba-510e-4584-b8fd-1552268fc578",
   "metadata": {},
   "source": [
    "---\n",
    "## Modules <a name='modules'></a>"
   ]
  },
  {
   "cell_type": "markdown",
   "id": "99caf04b-08d7-47e5-9a41-df55f1a81247",
   "metadata": {},
   "source": [
    "---\n",
    "## NumPy <a name='numpy'></a>"
   ]
  },
  {
   "cell_type": "markdown",
   "id": "a1c9a69e-01a7-4b2f-a102-8a62804b28e7",
   "metadata": {},
   "source": [
    "---\n",
    "## Matplotlib <a name='matplotlib'></a>"
   ]
  },
  {
   "cell_type": "markdown",
   "id": "add95785-c5ef-4913-99d4-465b4d546e0a",
   "metadata": {},
   "source": [
    "---\n",
    "## Pandas <a name='pandas'></a>"
   ]
  }
 ],
 "metadata": {
  "kernelspec": {
   "display_name": "Python 3",
   "language": "python",
   "name": "python3"
  },
  "language_info": {
   "codemirror_mode": {
    "name": "ipython",
    "version": 3
   },
   "file_extension": ".py",
   "mimetype": "text/x-python",
   "name": "python",
   "nbconvert_exporter": "python",
   "pygments_lexer": "ipython3",
   "version": "3.9.6"
  }
 },
 "nbformat": 4,
 "nbformat_minor": 5
}
